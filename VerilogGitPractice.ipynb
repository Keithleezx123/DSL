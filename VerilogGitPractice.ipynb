{
  "nbformat": 4,
  "nbformat_minor": 0,
  "metadata": {
    "colab": {
      "provenance": [],
      "include_colab_link": true
    },
    "kernelspec": {
      "name": "python3",
      "display_name": "Python 3"
    },
    "language_info": {
      "name": "python"
    }
  },
  "cells": [
    {
      "cell_type": "markdown",
      "metadata": {
        "id": "view-in-github",
        "colab_type": "text"
      },
      "source": [
        "<a href=\"https://colab.research.google.com/github/Keithleezx123/DSL/blob/main/VerilogGitPractice.ipynb\" target=\"_parent\"><img src=\"https://colab.research.google.com/assets/colab-badge.svg\" alt=\"Open In Colab\"/></a>"
      ]
    },
    {
      "cell_type": "markdown",
      "source": [
        "# Setup"
      ],
      "metadata": {
        "id": "iP7XGelNBKqE"
      }
    },
    {
      "cell_type": "code",
      "execution_count": 1,
      "metadata": {
        "id": "i9XGPjUbBDB0"
      },
      "outputs": [],
      "source": [
        "!pip install git+https://github.com/pe8sutd/eda4u &> /dev/null\n",
        "!git clone https://github.com/pe8sutd/eda4u &> /dev/null\n",
        "%load_ext plugin"
      ]
    },
    {
      "cell_type": "markdown",
      "source": [
        "# Verilog HDL Practice"
      ],
      "metadata": {
        "id": "Wdc8ze8SBmXT"
      }
    },
    {
      "cell_type": "markdown",
      "source": [
        "This practice helps to appreciate the content of the lectures. The solutions are also proposed for reference. However, you may improve the solution.\n"
      ],
      "metadata": {
        "id": "jo8WK3gXTKwQ"
      }
    },
    {
      "cell_type": "markdown",
      "source": [
        "## Submission\n",
        "\n",
        "Copy this file to your Google Colab and link to Github. Update the solutions by incorporating Python, plots the waveforms, improve the solutions, whichever applicable."
      ],
      "metadata": {
        "id": "B1EgnwnPTfzh"
      }
    },
    {
      "cell_type": "markdown",
      "source": [
        "# A. Hierarchical Modelling Concepts - Module"
      ],
      "metadata": {
        "id": "vl5mRqiBCgZ6"
      }
    },
    {
      "cell_type": "markdown",
      "source": [
        "1. An interconnect switch (IS) contains the following components, a shared memory (MEM), a system controller (SC) and a data crossbar (Xbar).\n",
        "a) Define the modules MEM, SC, and Xbar, using the module/endmodule keywords. You do not need to define the internals. Assume that the modules have no terminal lists."
      ],
      "metadata": {
        "id": "wnm8tmIRCreK"
      }
    },
    {
      "cell_type": "code",
      "source": [
        "%%verilog\n",
        "\n",
        "module MEM();\n",
        "endmodule\n",
        "\n",
        "module SC();\n",
        "endmodule\n",
        "\n",
        "module Xbar();\n",
        "endmodule\n"
      ],
      "metadata": {
        "colab": {
          "base_uri": "https://localhost:8080/"
        },
        "id": "ERnlbAPQDzwE",
        "outputId": "b8741dac-e8b9-452f-f1f7-572aa3060efe"
      },
      "execution_count": 20,
      "outputs": [
        {
          "output_type": "stream",
          "name": "stdout",
          "text": [
            "\n"
          ]
        }
      ]
    },
    {
      "cell_type": "markdown",
      "source": [
        "\n",
        "\n",
        "b) Define the module IS, using the module/endmodule keywords. Instantiate the modules MEM, SC, Xbar and call the instance mem1, sc1, and xbar1, respectively. You do not need to define the internals. Assume that the module IS has no terminals.\n",
        "\n",
        "\n",
        "\n"
      ],
      "metadata": {
        "id": "m-BTdJb7DcFz"
      }
    },
    {
      "cell_type": "code",
      "source": [
        "%%verilog\n",
        "module MEM();\n",
        "endmodule\n",
        "\n",
        "module SC();\n",
        "endmodule\n",
        "\n",
        "module Xbar();\n",
        "endmodule\n",
        "\n",
        "module IS();\n",
        "    MEM mem1();\n",
        "    SC sc1();\n",
        "    Xbar xbar1();\n",
        "endmodule\n"
      ],
      "metadata": {
        "colab": {
          "base_uri": "https://localhost:8080/"
        },
        "id": "b5ydnQkUD-BD",
        "outputId": "5a308545-14dd-4a37-f4db-e0c4d7a96ed6"
      },
      "execution_count": 26,
      "outputs": [
        {
          "output_type": "stream",
          "name": "stdout",
          "text": [
            "\n"
          ]
        }
      ]
    },
    {
      "cell_type": "markdown",
      "source": [
        "c) Define a stimulus block (Top), using the module/endmodule keywords. Instantiate the design block IS and call the instance is1. This is the final step in building the simulation environment.\n",
        "\n",
        "\n"
      ],
      "metadata": {
        "id": "TRx8iBA0DjXT"
      }
    },
    {
      "cell_type": "code",
      "source": [
        "%%verilog\n",
        "\n",
        "module MEM();\n",
        "endmodule\n",
        "\n",
        "module SC();\n",
        "endmodule\n",
        "\n",
        "module Xbar();\n",
        "endmodule\n",
        "\n",
        "module IS();\n",
        "    MEM mem1();\n",
        "    SC sc1();\n",
        "    Xbar xbar1();\n",
        "endmodule\n",
        "\n",
        "module Top;\n",
        "\n",
        "IS is1();\n",
        "\n",
        "endmodule"
      ],
      "metadata": {
        "id": "lcfbH4BYEPir",
        "outputId": "b92ed8ae-9b3d-4347-b270-165193eb6a8b",
        "colab": {
          "base_uri": "https://localhost:8080/"
        }
      },
      "execution_count": 28,
      "outputs": [
        {
          "output_type": "stream",
          "name": "stdout",
          "text": [
            "\n"
          ]
        }
      ]
    },
    {
      "cell_type": "markdown",
      "source": [
        "2. A 4-bit ripple carry adder (Ripple_Add) contains four 1-bit full adders (FA).\n",
        "a) Define the module FA. Do not define the internals or the terminal list.\n",
        "\n",
        "\n"
      ],
      "metadata": {
        "id": "BfUQaHteDoQz"
      }
    },
    {
      "cell_type": "code",
      "source": [
        "%%verilog\n",
        "\n",
        "module FA();\n",
        "\n",
        "endmodule"
      ],
      "metadata": {
        "id": "xFjsf8vmEddj",
        "outputId": "0fc50d08-35ac-4a08-bdce-8054ec577caa",
        "colab": {
          "base_uri": "https://localhost:8080/"
        }
      },
      "execution_count": 30,
      "outputs": [
        {
          "output_type": "stream",
          "name": "stdout",
          "text": [
            "\n"
          ]
        }
      ]
    },
    {
      "cell_type": "markdown",
      "source": [
        "b) Define the module Ripple_Add. Do not define the internals or the terminal list. Instantiate four full adders of type FA in the module Ripple_Add and call them fa0, fa1, fa2, fa3.\n",
        "\n",
        "\n"
      ],
      "metadata": {
        "id": "ctg3JOUGDsc6"
      }
    },
    {
      "cell_type": "code",
      "source": [
        "%%verilog\n",
        "\n",
        "module FA();\n",
        "\n",
        "endmodule\n",
        "\n",
        "module Ripple_Add();\n",
        "\n",
        "FA fa0();\n",
        "FA fa1();\n",
        "FA fa2();\n",
        "FA fa3();\n",
        "\n",
        "endmodule"
      ],
      "metadata": {
        "id": "xHmqLqe7EmLb",
        "outputId": "67f1bf18-56ca-4174-83c7-5b79e6e1f42e",
        "colab": {
          "base_uri": "https://localhost:8080/"
        }
      },
      "execution_count": 31,
      "outputs": [
        {
          "output_type": "stream",
          "name": "stdout",
          "text": [
            "\n"
          ]
        }
      ]
    },
    {
      "cell_type": "markdown",
      "source": [
        "# B. Basic Concepts of Digital Number"
      ],
      "metadata": {
        "id": "vjfch5VZDuUz"
      }
    },
    {
      "cell_type": "markdown",
      "source": [
        "1. Practice writing the following numbers:\n",
        "\n",
        "a) Decimal number 123 as a sized 8-bit number in binary. Use _ for readability.\n",
        "\n",
        "#### Decimal to Binary Conversion\n",
        "| Decimal (d) | Divide (d/2) | Modulus (d % 2) | Binary (LSB → MSB) |\n",
        "|-------------|--------------|-----------------|--------------------|\n",
        "| 123         | 61           | 1               | 1 (LSB)            |\n",
        "| 61          | 30           | 1               | 1                  |\n",
        "| 30          | 15           | 0               | 0                  |\n",
        "| 15          | 7            | 1               | 1                  |\n",
        "| 7           | 3            | 1               | 1                  |\n",
        "| 3           | 1            | 1               | 1                  |\n",
        "| 1           | 0            | 1               | 1                  |\n",
        "| 0           | 0            | 0               | 0 (MSB)            |\n",
        "\n",
        "**Result:** Binary = `01111011` (8 bits, MSB first).\n",
        "\n",
        "----\n",
        "\n",
        "#### Binary to Decimal Conversion\n",
        "| Bit Position (n) | 2^n  | Bit (b) | Contribution (b × 2^n) |\n",
        "|-------------------|------|---------|-------------------------|\n",
        "| 7 (MSB)           | 128  | 0       | 0                       |\n",
        "| 6                 | 64   | 1       | 64                      |\n",
        "| 5                 | 32   | 1       | 32                      |\n",
        "| 4                 | 16   | 1       | 16                      |\n",
        "| 3                 | 8    | 1       | 8                       |\n",
        "| 2                 | 4    | 0       | 0                       |\n",
        "| 1                 | 2    | 1       | 2                       |\n",
        "| 0 (LSB)           | 1    | 1       | 1                       |\n",
        "\n",
        "**Total:**  \n",
        "\\( 64 + 32 + 16 + 8 + 0 + 2 + 1 = $\\boxed{123}$ \\)\n",
        "\n",
        "LSB: least significant bit\n",
        "MSB: most significant bit"
      ],
      "metadata": {
        "id": "OA-B8pVCGZ0z"
      }
    },
    {
      "cell_type": "code",
      "source": [
        "8'b01111011\n",
        "8'b0111_1011"
      ],
      "metadata": {
        "id": "rFap9gKiKkLE",
        "outputId": "9ab143b4-efcc-440e-84a7-dd0e9ac2a155",
        "colab": {
          "base_uri": "https://localhost:8080/",
          "height": 111
        }
      },
      "execution_count": 34,
      "outputs": [
        {
          "output_type": "error",
          "ename": "SyntaxError",
          "evalue": "unterminated string literal (detected at line 1) (<ipython-input-34-bd9ca892d49b>, line 1)",
          "traceback": [
            "\u001b[0;36m  File \u001b[0;32m\"<ipython-input-34-bd9ca892d49b>\"\u001b[0;36m, line \u001b[0;32m1\u001b[0m\n\u001b[0;31m    8'b01111011\u001b[0m\n\u001b[0m     ^\u001b[0m\n\u001b[0;31mSyntaxError\u001b[0m\u001b[0;31m:\u001b[0m unterminated string literal (detected at line 1)\n"
          ]
        }
      ]
    },
    {
      "cell_type": "markdown",
      "source": [
        "b) A 16-bit hexadecimal unknown number with all x’s."
      ],
      "metadata": {
        "id": "hNvvR0SmHbfV"
      }
    },
    {
      "cell_type": "code",
      "source": [
        "\n",
        "16'hx"
      ],
      "metadata": {
        "id": "OTMCmZe6KqYs"
      },
      "execution_count": null,
      "outputs": []
    },
    {
      "cell_type": "markdown",
      "source": [
        "c) A 4-bit negative 2 in decimal. Write the 2’s complement form for this number."
      ],
      "metadata": {
        "id": "HG5YH9OHKhcO"
      }
    },
    {
      "cell_type": "code",
      "source": [
        "\n",
        "4'd2    //a) 4 bits decimal number, 2\n",
        "4'b0010 //b) 4 bits binary number, 2\n",
        "-4'd2   //c) 4 bits decimal number, -2\n",
        "4'b1110 //d) 4 bit binary number for negative 2, in 2's complement format"
      ],
      "metadata": {
        "id": "vYTiCqMLKxYk"
      },
      "execution_count": null,
      "outputs": []
    },
    {
      "cell_type": "markdown",
      "source": [
        "Using algorithm for conversion of -2 to 2's complement number in binary:\n",
        "I. Invert the binary number\n",
        "$$0010_{2} \\to 1101_{2}$$\n",
        "II. Add 1\n",
        "$$1101_2 + 1_2 = 1110_2$$"
      ],
      "metadata": {
        "id": "fFs5EXaTK_1N"
      }
    },
    {
      "cell_type": "markdown",
      "source": [
        "d) An unsized hex number 1234."
      ],
      "metadata": {
        "id": "qdQehLy4LCtE"
      }
    },
    {
      "cell_type": "code",
      "source": [
        "32'h1234 //unsized default to 32 bits"
      ],
      "metadata": {
        "id": "2qAyda8NLFPd"
      },
      "execution_count": null,
      "outputs": []
    },
    {
      "cell_type": "markdown",
      "source": [
        "\n",
        "4. Declare the following variables in Verilog:\n",
        "\n",
        "a) An 8-bit vector net called a_in.\n",
        "\n",
        "b) A 32-bit storage register called address. Bit 31 must be the most significant bit. Set the value of the register to a 32-bit decimal number equal to 3.\n",
        "\n",
        "c) An integer called cout.\n",
        "\n",
        "d) A time variable called snap_shot.\n",
        "\n",
        "e) An array called delays. Array contains 20 elements of the type integer.\n",
        "\n",
        "f) A memory MEM containing 256 words of 64 bits each.\n",
        "\n",
        "g) A parameter cache_size equal to 512."
      ],
      "metadata": {
        "id": "KMoUsRc_LPi8"
      }
    },
    {
      "cell_type": "code",
      "source": [
        "\n",
        "//a)\n",
        "wire [7:0] a_in;\n",
        "\n",
        "//b)\n",
        "reg [31:0] address = 32'd3;\n",
        "\n",
        "//c)\n",
        "integer cout;\n",
        "\n",
        "//d)\n",
        "time snap_shot;\n",
        "\n",
        "//e)\n",
        "integer delays[19:0];\n",
        "\n",
        "//f)\n",
        "reg [63:0] MEM[255:0];\n",
        "\n",
        "//g)\n",
        "parameter cache_size=512;\n"
      ],
      "metadata": {
        "id": "nSerD_Y4Lk5U",
        "outputId": "be19a003-cf14-4815-863b-b710f52c7d25",
        "colab": {
          "base_uri": "https://localhost:8080/",
          "height": 111
        }
      },
      "execution_count": 35,
      "outputs": [
        {
          "output_type": "error",
          "ename": "SyntaxError",
          "evalue": "unmatched ')' (<ipython-input-35-7a4dd2435030>, line 1)",
          "traceback": [
            "\u001b[0;36m  File \u001b[0;32m\"<ipython-input-35-7a4dd2435030>\"\u001b[0;36m, line \u001b[0;32m1\u001b[0m\n\u001b[0;31m    //a)\u001b[0m\n\u001b[0m       ^\u001b[0m\n\u001b[0;31mSyntaxError\u001b[0m\u001b[0;31m:\u001b[0m unmatched ')'\n"
          ]
        }
      ]
    },
    {
      "cell_type": "markdown",
      "source": [
        "\n",
        "5. What would be the output/effect of the following statements?\n",
        "\n",
        "a) latch = 4’d12;\n",
        "$display(“The current value of latch = %b\\n”, latch);\n",
        "\n",
        "b) in_reg=3’d2;\n",
        "$monitor($time, “ In register value = %b\\n”, in_reg[2:0]);\n",
        "\n",
        "c) \\`define MEM_SIZE 1024\n",
        "$display(“ The maximum memory size is %h”, `MEM_SIZE);"
      ],
      "metadata": {
        "id": "ahqPTRSxLZbs"
      }
    },
    {
      "cell_type": "code",
      "source": [
        "//a)\n",
        "The current value of latch = 4'b1100\n",
        "\n",
        "//b)\n",
        "0 In register value = 3'b010"
      ],
      "metadata": {
        "id": "KQFxlTOAMAdd"
      },
      "execution_count": null,
      "outputs": []
    },
    {
      "cell_type": "markdown",
      "source": [
        "$$1024_{10} = 2^{10} = 100\\_0000\\_0000_{2} = 400_{16}$$"
      ],
      "metadata": {
        "id": "N1UEMEnZL4bE"
      }
    },
    {
      "cell_type": "code",
      "source": [
        "//c)\n",
        "The maximum memory size is 'h400"
      ],
      "metadata": {
        "id": "ualeA1BzMGLN"
      },
      "execution_count": null,
      "outputs": []
    },
    {
      "cell_type": "markdown",
      "source": [
        "# C. Modules and Ports"
      ],
      "metadata": {
        "id": "VEY8UO9IMSJE"
      }
    },
    {
      "cell_type": "markdown",
      "source": [
        "1. What are the basic components of a module? Which components are mandatory?"
      ],
      "metadata": {
        "id": "9J9tKbuDMX_V"
      }
    },
    {
      "cell_type": "code",
      "source": [
        "// Basic components:\n",
        "Module Name, Port List, Port Declarations, Parameters, Declarations of wires, regs and other variables, Data flow statements, Instantiation of lower level modules, always and initial blocks, Tasks and functions, endmodule statement.\n",
        "\n",
        "// Mandatory:\n",
        "module, module name, and endmodule."
      ],
      "metadata": {
        "id": "_5AcFWbFMbeN"
      },
      "execution_count": null,
      "outputs": []
    },
    {
      "cell_type": "markdown",
      "source": [
        "3. A 4-bit parallel shift register has I/O pins as shown in the figure bellow. Write the module definition for this module shift_reg. Include the list of ports and port declarations. You do not need to show the internals."
      ],
      "metadata": {
        "id": "LQDVCr16MhG0"
      }
    },
    {
      "cell_type": "markdown",
      "source": [
        "![image.png](data:image/png;base64,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)"
      ],
      "metadata": {
        "id": "ppZMpoOUMmWd"
      }
    },
    {
      "cell_type": "code",
      "source": [
        "%%verilog\n",
        "\n",
        "module shift_reg(reg_out, reg_in, clock);\n",
        " output reg [3:0] reg_out;\n",
        " input [3:0] reg_in;\n",
        " input clock;\n",
        "\n",
        "endmodule"
      ],
      "metadata": {
        "id": "jV6vV-YrMrfk"
      },
      "execution_count": null,
      "outputs": []
    },
    {
      "cell_type": "markdown",
      "source": [
        "4. Base on Question-3. Declare a top-level module stimulus. Define REG_IN(4-bit) and CLK(1-bit) as reg register variables and REG_OUT(4-bit) as wire. Instantiate the module shift_reg and call it sr1. Connect the ports by 1. ordered list. 2. name list."
      ],
      "metadata": {
        "id": "kJ4mE63QMyaV"
      }
    },
    {
      "cell_type": "code",
      "source": [
        "%%verilog\n",
        "module shift_reg(reg_out, reg_in, clock);\n",
        " output reg [3:0] reg_out;\n",
        " input [3:0] reg_in;\n",
        " input clock;\n",
        "\n",
        "endmodule\n",
        "\n",
        "module stimulus;\n",
        " wire [3:0] REG_OUT;\n",
        " reg [3:0] REG_IN;\n",
        " reg CLK;\n",
        " //by ordered list\n",
        " shift_reg sr1(REG_OUT, REG_IN, CLK);\n",
        "\n",
        "endmodule\n"
      ],
      "metadata": {
        "id": "I3Cr8yG7M2S1",
        "outputId": "31dee4bf-d987-4761-985d-f1fbc8513c22",
        "colab": {
          "base_uri": "https://localhost:8080/"
        }
      },
      "execution_count": 37,
      "outputs": [
        {
          "output_type": "stream",
          "name": "stdout",
          "text": [
            "\n"
          ]
        }
      ]
    },
    {
      "cell_type": "code",
      "source": [
        "%%verilog\n",
        "\n",
        "module shift_reg(reg_out, reg_in, clock);\n",
        " output reg [3:0] reg_out;\n",
        " input [3:0] reg_in;\n",
        " input clock;\n",
        "\n",
        "endmodule\n",
        "\n",
        "module stimulus;\n",
        " wire [3:0] REG_OUT;\n",
        " reg [3:0] REG_IN;\n",
        " reg CLK;\n",
        " //by name list\n",
        " shift_reg sr1(.reg_out(REG_OUT), .reg_in(REG_IN), .clock(CLK));\n",
        "\n",
        "endmodule"
      ],
      "metadata": {
        "id": "Eubzem2-M8Z1",
        "outputId": "3c8acb39-ccba-49ed-de95-dff485a9f099",
        "colab": {
          "base_uri": "https://localhost:8080/"
        }
      },
      "execution_count": 39,
      "outputs": [
        {
          "output_type": "stream",
          "name": "stdout",
          "text": [
            "\n"
          ]
        }
      ]
    },
    {
      "cell_type": "markdown",
      "source": [
        "\n",
        "6. Write the hierarchical names for variables REG_IN,CLK,REG_OUT;"
      ],
      "metadata": {
        "id": "IIWllwbJNBjs"
      }
    },
    {
      "cell_type": "code",
      "source": [
        "stimulus.REG_IN, stimulus.CLK, stimulus.REG_OUT"
      ],
      "metadata": {
        "id": "gB56BFRYND2U",
        "outputId": "2d5903fe-94c5-4b61-93f1-97c697a7eb4c",
        "colab": {
          "base_uri": "https://localhost:8080/"
        }
      },
      "execution_count": 42,
      "outputs": [
        {
          "output_type": "stream",
          "name": "stdout",
          "text": [
            "The process occurred error, see below the error:\n",
            "\n",
            "code.v:17: syntax error\n",
            "I give up.\n",
            "\n",
            "\n"
          ]
        }
      ]
    },
    {
      "cell_type": "markdown",
      "source": [
        "\n",
        "7. Write the hierarchical name, for instance sr1. Write the hierarchical names for its ports clock and reg_in."
      ],
      "metadata": {
        "id": "XEtyRimHNEZc"
      }
    },
    {
      "cell_type": "code",
      "source": [
        "stimulus.sr1, stimulus.sr1.clock, stimulus.sr1.reg_in"
      ],
      "metadata": {
        "id": "katatNTBNGt1"
      },
      "execution_count": null,
      "outputs": []
    },
    {
      "cell_type": "markdown",
      "source": [
        "# D. Dataflow Modelling"
      ],
      "metadata": {
        "id": "FOS1wfenNLtc"
      }
    },
    {
      "cell_type": "markdown",
      "source": [
        "1. A full subtractor has three 1-bit inputs x, y, and z (previous borrow) and two 1-bit outputs D (difference) and B (borrow). The logic equations for D and B are as follows:\n",
        "\n",
        "D=x’.y’.z + x’.y.z’ + x.y’.z’ + x.y.z\n",
        "\n",
        "B=x’.y + x’.z + y.z\n",
        "\n",
        "Write the full Verilog description (use \"always\" instead of \"assign\") for the subtractor module, including I/O ports (Remember that + in logic equations corresponds to a logical or operator (||) in dataflow). Instantiate the subtractor inside a stimulus block and test all eight possible combinations of x, y, and z given in the following truth table.\n",
        "\n",
        "\n",
        "### Truth Table for Inputs (B, D) and Outputs (x, y, z)\n",
        "\n",
        "| **Input** |     | **Output** |   |   |\n",
        "|-----------|-----|------------|---|---|\n",
        "| **B**     | **D** | **x**     | **y** | **z** |\n",
        "|-----------|-----|------------|---|---|\n",
        "| 0         | 0   | 0          | 0   | 0   |\n",
        "| 0         | 1   | 1          | 0   | 0   |\n",
        "| 1         | 0   | 1          | 1   | 0   |\n",
        "| 1         | 1   | 0          | 0   | 0   |\n",
        "| 0         | 0   | 0          | 1   | 0   |\n",
        "| 0         | 1   | 0          | 0   | 1   |\n",
        "| 1         | 0   | 1          | 0   | 1   |\n",
        "| 1         | 1   | 1          | 1   | 1   |\n",
        "\n"
      ],
      "metadata": {
        "id": "4IlMQTDvNO38"
      }
    },
    {
      "cell_type": "code",
      "source": [
        "%%print_verilog\n",
        "\n",
        "module fs(B,D,x,y,z);\n",
        " output reg B,D;\n",
        " input x,y,z;\n",
        "\n",
        " always @(*)\n",
        "  begin\n",
        "   D <= (~x & ~y & z) || (~x & y & ~z) || (x & ~y & ~z) || (x & y & z);\n",
        "   B <= (~x & y) + (~x & z) + (y & z);\n",
        "  end\n",
        "\n",
        "endmodule"
      ],
      "metadata": {
        "colab": {
          "base_uri": "https://localhost:8080/",
          "height": 353
        },
        "collapsed": true,
        "id": "mrCh4RICOORF",
        "outputId": "a46b328b-0320-4ea4-b3df-24080810bdf0"
      },
      "execution_count": 43,
      "outputs": [
        {
          "output_type": "display_data",
          "data": {
            "text/plain": [
              "<IPython.core.display.SVG object>"
            ],
            "image/svg+xml": "<svg xmlns=\"http://www.w3.org/2000/svg\" xmlns:xlink=\"http://www.w3.org/1999/xlink\" xmlns:s=\"https://github.com/nturley/netlistsvg\" width=\"516\" height=\"330.5\"><style>svg {\n  stroke:#000;\n  fill:none;\n}\ntext {\n  fill:#000;\n  stroke:none;\n  font-size:10px;\n  font-weight: bold;\n  font-family: &quot;Courier New&quot;, monospace;\n}\nline {\n    stroke-linecap: round;\n}\n.nodelabel {\n  text-anchor: middle;\n}\n.inputPortLabel {\n  text-anchor: end;\n}\n.splitjoinBody {\n  fill:#000;\n}</style><g s:type=\"add\" transform=\"translate(345.6666666666667,12)\" s:width=\"25\" s:height=\"25\" id=\"cell_$add$/content/code.v:9$23\"><s:alias val=\"$add\"/><circle r=\"12.5\" cx=\"12.5\" cy=\"12.5\" class=\"cell_$add$/content/code.v:9$23\"/><line x1=\"7.5\" x2=\"17.5\" y1=\"12.5\" y2=\"12.5\" class=\"cell_$add$/content/code.v:9$23\"/><line x1=\"12.5\" x2=\"12.5\" y1=\"7.5\" y2=\"17.5\" class=\"cell_$add$/content/code.v:9$23\"/><g s:x=\"2\" s:y=\"5\" s:pid=\"A\"/><g s:x=\"2\" s:y=\"20\" s:pid=\"B\"/><g s:x=\"26\" s:y=\"12.5\" s:pid=\"Y\"/></g><g s:type=\"add\" transform=\"translate(410.6666666666667,19.5)\" s:width=\"25\" s:height=\"25\" id=\"cell_$add$/content/code.v:9$25\"><s:alias val=\"$add\"/><circle r=\"12.5\" cx=\"12.5\" cy=\"12.5\" class=\"cell_$add$/content/code.v:9$25\"/><line x1=\"7.5\" x2=\"17.5\" y1=\"12.5\" y2=\"12.5\" class=\"cell_$add$/content/code.v:9$25\"/><line x1=\"12.5\" x2=\"12.5\" y1=\"7.5\" y2=\"17.5\" class=\"cell_$add$/content/code.v:9$25\"/><g s:x=\"2\" s:y=\"5\" s:pid=\"A\"/><g s:x=\"2\" s:y=\"20\" s:pid=\"B\"/><g s:x=\"26\" s:y=\"12.5\" s:pid=\"Y\"/></g><g s:type=\"and\" transform=\"translate(214,252.5)\" s:width=\"30\" s:height=\"25\" id=\"cell_$and$/content/code.v:8$12\"><s:alias val=\"$and\"/><s:alias val=\"$logic_and\"/><s:alias val=\"$_AND_\"/><s:alias val=\"$reduce_and\"/><path d=\"M0,0 L0,25 L15,25 A15 12.5 0 0 0 15,0 Z\" class=\"cell_$and$/content/code.v:8$12\"/><g s:x=\"0\" s:y=\"5\" s:pid=\"A\"/><g s:x=\"0\" s:y=\"20\" s:pid=\"B\"/><g s:x=\"30\" s:y=\"12.5\" s:pid=\"Y\"/></g><g s:type=\"and\" transform=\"translate(279,221.5)\" s:width=\"30\" s:height=\"25\" id=\"cell_$and$/content/code.v:8$14\"><s:alias val=\"$and\"/><s:alias val=\"$logic_and\"/><s:alias val=\"$_AND_\"/><s:alias val=\"$reduce_and\"/><path d=\"M0,0 L0,25 L15,25 A15 12.5 0 0 0 15,0 Z\" class=\"cell_$and$/content/code.v:8$14\"/><g s:x=\"0\" s:y=\"5\" s:pid=\"A\"/><g s:x=\"0\" s:y=\"20\" s:pid=\"B\"/><g s:x=\"30\" s:y=\"12.5\" s:pid=\"Y\"/></g><g s:type=\"and\" transform=\"translate(279,282.5)\" s:width=\"30\" s:height=\"25\" id=\"cell_$and$/content/code.v:8$16\"><s:alias val=\"$and\"/><s:alias val=\"$logic_and\"/><s:alias val=\"$_AND_\"/><s:alias val=\"$reduce_and\"/><path d=\"M0,0 L0,25 L15,25 A15 12.5 0 0 0 15,0 Z\" class=\"cell_$and$/content/code.v:8$16\"/><g s:x=\"0\" s:y=\"5\" s:pid=\"A\"/><g s:x=\"0\" s:y=\"20\" s:pid=\"B\"/><g s:x=\"30\" s:y=\"12.5\" s:pid=\"Y\"/></g><g s:type=\"and\" transform=\"translate(344,290)\" s:width=\"30\" s:height=\"25\" id=\"cell_$and$/content/code.v:8$17\"><s:alias val=\"$and\"/><s:alias val=\"$logic_and\"/><s:alias val=\"$_AND_\"/><s:alias val=\"$reduce_and\"/><path d=\"M0,0 L0,25 L15,25 A15 12.5 0 0 0 15,0 Z\" class=\"cell_$and$/content/code.v:8$17\"/><g s:x=\"0\" s:y=\"5\" s:pid=\"A\"/><g s:x=\"0\" s:y=\"20\" s:pid=\"B\"/><g s:x=\"30\" s:y=\"12.5\" s:pid=\"Y\"/></g><g s:type=\"and\" transform=\"translate(148.66666666666666,139)\" s:width=\"30\" s:height=\"25\" id=\"cell_$and$/content/code.v:8$4\"><s:alias val=\"$and\"/><s:alias val=\"$logic_and\"/><s:alias val=\"$_AND_\"/><s:alias val=\"$reduce_and\"/><path d=\"M0,0 L0,25 L15,25 A15 12.5 0 0 0 15,0 Z\" class=\"cell_$and$/content/code.v:8$4\"/><g s:x=\"0\" s:y=\"5\" s:pid=\"A\"/><g s:x=\"0\" s:y=\"20\" s:pid=\"B\"/><g s:x=\"30\" s:y=\"12.5\" s:pid=\"Y\"/></g><g s:type=\"and\" transform=\"translate(214,146.5)\" s:width=\"30\" s:height=\"25\" id=\"cell_$and$/content/code.v:8$5\"><s:alias val=\"$and\"/><s:alias val=\"$logic_and\"/><s:alias val=\"$_AND_\"/><s:alias val=\"$reduce_and\"/><path d=\"M0,0 L0,25 L15,25 A15 12.5 0 0 0 15,0 Z\" class=\"cell_$and$/content/code.v:8$5\"/><g s:x=\"0\" s:y=\"5\" s:pid=\"A\"/><g s:x=\"0\" s:y=\"20\" s:pid=\"B\"/><g s:x=\"30\" s:y=\"12.5\" s:pid=\"Y\"/></g><g s:type=\"and\" transform=\"translate(148.66666666666666,93)\" s:width=\"30\" s:height=\"25\" id=\"cell_$and$/content/code.v:8$7\"><s:alias val=\"$and\"/><s:alias val=\"$logic_and\"/><s:alias val=\"$_AND_\"/><s:alias val=\"$reduce_and\"/><path d=\"M0,0 L0,25 L15,25 A15 12.5 0 0 0 15,0 Z\" class=\"cell_$and$/content/code.v:8$7\"/><g s:x=\"0\" s:y=\"5\" s:pid=\"A\"/><g s:x=\"0\" s:y=\"20\" s:pid=\"B\"/><g s:x=\"30\" s:y=\"12.5\" s:pid=\"Y\"/></g><g s:type=\"and\" transform=\"translate(214,206.5)\" s:width=\"30\" s:height=\"25\" id=\"cell_$and$/content/code.v:8$9\"><s:alias val=\"$and\"/><s:alias val=\"$logic_and\"/><s:alias val=\"$_AND_\"/><s:alias val=\"$reduce_and\"/><path d=\"M0,0 L0,25 L15,25 A15 12.5 0 0 0 15,0 Z\" class=\"cell_$and$/content/code.v:8$9\"/><g s:x=\"0\" s:y=\"5\" s:pid=\"A\"/><g s:x=\"0\" s:y=\"20\" s:pid=\"B\"/><g s:x=\"30\" s:y=\"12.5\" s:pid=\"Y\"/></g><g s:type=\"and\" transform=\"translate(279,28)\" s:width=\"30\" s:height=\"25\" id=\"cell_$and$/content/code.v:9$22\"><s:alias val=\"$and\"/><s:alias val=\"$logic_and\"/><s:alias val=\"$_AND_\"/><s:alias val=\"$reduce_and\"/><path d=\"M0,0 L0,25 L15,25 A15 12.5 0 0 0 15,0 Z\" class=\"cell_$and$/content/code.v:9$22\"/><g s:x=\"0\" s:y=\"5\" s:pid=\"A\"/><g s:x=\"0\" s:y=\"20\" s:pid=\"B\"/><g s:x=\"30\" s:y=\"12.5\" s:pid=\"Y\"/></g><g s:type=\"and\" transform=\"translate(344,72)\" s:width=\"30\" s:height=\"25\" id=\"cell_$and$/content/code.v:9$24\"><s:alias val=\"$and\"/><s:alias val=\"$logic_and\"/><s:alias val=\"$_AND_\"/><s:alias val=\"$reduce_and\"/><path d=\"M0,0 L0,25 L15,25 A15 12.5 0 0 0 15,0 Z\" class=\"cell_$and$/content/code.v:9$24\"/><g s:x=\"0\" s:y=\"5\" s:pid=\"A\"/><g s:x=\"0\" s:y=\"20\" s:pid=\"B\"/><g s:x=\"30\" s:y=\"12.5\" s:pid=\"Y\"/></g><g s:type=\"or\" transform=\"translate(279,154)\" s:width=\"30\" s:height=\"25\" id=\"cell_$logic_or$/content/code.v:8$10\"><s:alias val=\"$or\"/><s:alias val=\"$logic_or\"/><s:alias val=\"$_OR_\"/><s:alias val=\"$reduce_or\"/><s:alias val=\"$reduce_bool\"/><path d=\"M0,0 A30 25 0 0 1 0,25 A30 25 0 0 0 30,12.5 A30 25 0 0 0 0,0\" class=\"cell_$logic_or$/content/code.v:8$10\"/><g s:x=\"2\" s:y=\"5\" s:pid=\"A\"/><g s:x=\"2\" s:y=\"20\" s:pid=\"B\"/><g s:x=\"30\" s:y=\"12.5\" s:pid=\"Y\"/></g><g s:type=\"or\" transform=\"translate(344,161.5)\" s:width=\"30\" s:height=\"25\" id=\"cell_$logic_or$/content/code.v:8$15\"><s:alias val=\"$or\"/><s:alias val=\"$logic_or\"/><s:alias val=\"$_OR_\"/><s:alias val=\"$reduce_or\"/><s:alias val=\"$reduce_bool\"/><path d=\"M0,0 A30 25 0 0 1 0,25 A30 25 0 0 0 30,12.5 A30 25 0 0 0 0,0\" class=\"cell_$logic_or$/content/code.v:8$15\"/><g s:x=\"2\" s:y=\"5\" s:pid=\"A\"/><g s:x=\"2\" s:y=\"20\" s:pid=\"B\"/><g s:x=\"30\" s:y=\"12.5\" s:pid=\"Y\"/></g><g s:type=\"or\" transform=\"translate(409,169)\" s:width=\"30\" s:height=\"25\" id=\"cell_$logic_or$/content/code.v:8$18\"><s:alias val=\"$or\"/><s:alias val=\"$logic_or\"/><s:alias val=\"$_OR_\"/><s:alias val=\"$reduce_or\"/><s:alias val=\"$reduce_bool\"/><path d=\"M0,0 A30 25 0 0 1 0,25 A30 25 0 0 0 30,12.5 A30 25 0 0 0 0,0\" class=\"cell_$logic_or$/content/code.v:8$18\"/><g s:x=\"2\" s:y=\"5\" s:pid=\"A\"/><g s:x=\"2\" s:y=\"20\" s:pid=\"B\"/><g s:x=\"30\" s:y=\"12.5\" s:pid=\"Y\"/></g><g s:type=\"not\" transform=\"translate(78,219)\" s:width=\"30\" s:height=\"20\" id=\"cell_$not$/content/code.v:8$11\"><s:alias val=\"$_NOT_\"/><s:alias val=\"$not\"/><s:alias val=\"$logic_not\"/><path d=\"M0,0 L0,20 L20,10 Z\" class=\"cell_$not$/content/code.v:8$11\"/><circle cx=\"24\" cy=\"10\" r=\"3\" class=\"cell_$not$/content/code.v:8$11\"/><g s:x=\"-1\" s:y=\"10\" s:pid=\"A\"/><g s:x=\"27\" s:y=\"10\" s:pid=\"Y\"/></g><g s:type=\"not\" transform=\"translate(149,216.5)\" s:width=\"30\" s:height=\"20\" id=\"cell_$not$/content/code.v:8$13\"><s:alias val=\"$_NOT_\"/><s:alias val=\"$not\"/><s:alias val=\"$logic_not\"/><path d=\"M0,0 L0,20 L20,10 Z\" class=\"cell_$not$/content/code.v:8$13\"/><circle cx=\"24\" cy=\"10\" r=\"3\" class=\"cell_$not$/content/code.v:8$13\"/><g s:x=\"-1\" s:y=\"10\" s:pid=\"A\"/><g s:x=\"27\" s:y=\"10\" s:pid=\"Y\"/></g><g s:type=\"not\" transform=\"translate(78,88)\" s:width=\"30\" s:height=\"20\" id=\"cell_$not$/content/code.v:8$2\"><s:alias val=\"$_NOT_\"/><s:alias val=\"$not\"/><s:alias val=\"$logic_not\"/><path d=\"M0,0 L0,20 L20,10 Z\" class=\"cell_$not$/content/code.v:8$2\"/><circle cx=\"24\" cy=\"10\" r=\"3\" class=\"cell_$not$/content/code.v:8$2\"/><g s:x=\"-1\" s:y=\"10\" s:pid=\"A\"/><g s:x=\"27\" s:y=\"10\" s:pid=\"Y\"/></g><g s:type=\"outputExt\" transform=\"translate(474,22)\" s:width=\"30\" s:height=\"20\" id=\"cell_B\"><text x=\"15\" y=\"-4\" class=\"nodelabel cell_B\" s:attribute=\"ref\">B</text><s:alias val=\"$_outputExt_\"/><path d=\"M30,0 L30,20 L15,20 L0,10 L15,0 Z\" class=\"cell_B\"/><g s:x=\"0\" s:y=\"10\" s:pid=\"A\"/></g><g s:type=\"outputExt\" transform=\"translate(474,171.5)\" s:width=\"30\" s:height=\"20\" id=\"cell_D\"><text x=\"15\" y=\"-4\" class=\"nodelabel cell_D\" s:attribute=\"ref\">D</text><s:alias val=\"$_outputExt_\"/><path d=\"M30,0 L30,20 L15,20 L0,10 L15,0 Z\" class=\"cell_D\"/><g s:x=\"0\" s:y=\"10\" s:pid=\"A\"/></g><g s:type=\"inputExt\" transform=\"translate(12,247.5)\" s:width=\"30\" s:height=\"20\" id=\"cell_x\"><text x=\"15\" y=\"-4\" class=\"nodelabel cell_x\" s:attribute=\"ref\">x</text><s:alias val=\"$_inputExt_\"/><path d=\"M0,0 L0,20 L15,20 L30,10 L15,0 Z\" class=\"cell_x\"/><g s:x=\"30\" s:y=\"10\" s:pid=\"Y\"/></g><g s:type=\"inputExt\" transform=\"translate(12,108)\" s:width=\"30\" s:height=\"20\" id=\"cell_y\"><text x=\"15\" y=\"-4\" class=\"nodelabel cell_y\" s:attribute=\"ref\">y</text><s:alias val=\"$_inputExt_\"/><path d=\"M0,0 L0,20 L15,20 L30,10 L15,0 Z\" class=\"cell_y\"/><g s:x=\"30\" s:y=\"10\" s:pid=\"Y\"/></g><g s:type=\"inputExt\" transform=\"translate(78,164)\" s:width=\"30\" s:height=\"20\" id=\"cell_z\"><text x=\"15\" y=\"-4\" class=\"nodelabel cell_z\" s:attribute=\"ref\">z</text><s:alias val=\"$_inputExt_\"/><path d=\"M0,0 L0,20 L15,20 L30,10 L15,0 Z\" class=\"cell_z\"/><g s:x=\"30\" s:y=\"10\" s:pid=\"Y\"/></g><line x1=\"178.66666666666666\" x2=\"199\" y1=\"105.5\" y2=\"105.5\" class=\"net_7 width_1\" style=\"stroke-width: 1\"/><line x1=\"199\" x2=\"199\" y1=\"105.5\" y2=\"17\" class=\"net_7 width_1\" style=\"stroke-width: 1\"/><circle cx=\"199\" cy=\"105.5\" r=\"2\" style=\"fill:#000\" class=\"net_7 width_1\"/><line x1=\"199\" x2=\"347.6666666666667\" y1=\"17\" y2=\"17\" class=\"net_7 width_1\" style=\"stroke-width: 1\"/><line x1=\"178.66666666666666\" x2=\"199\" y1=\"105.5\" y2=\"105.5\" class=\"net_7 width_1\" style=\"stroke-width: 1\"/><line x1=\"199\" x2=\"199\" y1=\"105.5\" y2=\"211.5\" class=\"net_7 width_1\" style=\"stroke-width: 1\"/><line x1=\"199\" x2=\"214\" y1=\"211.5\" y2=\"211.5\" class=\"net_7 width_1\" style=\"stroke-width: 1\"/><line x1=\"309\" x2=\"319\" y1=\"40.5\" y2=\"40.5\" class=\"net_8 width_1\" style=\"stroke-width: 1\"/><line x1=\"319\" x2=\"319\" y1=\"40.5\" y2=\"32\" class=\"net_8 width_1\" style=\"stroke-width: 1\"/><line x1=\"319\" x2=\"347.6666666666667\" y1=\"32\" y2=\"32\" class=\"net_8 width_1\" style=\"stroke-width: 1\"/><line x1=\"371.6666666666667\" x2=\"412.6666666666667\" y1=\"24.5\" y2=\"24.5\" class=\"net_9 width_1\" style=\"stroke-width: 1\"/><line x1=\"374\" x2=\"384\" y1=\"84.5\" y2=\"84.5\" class=\"net_10 width_1\" style=\"stroke-width: 1\"/><line x1=\"384\" x2=\"384\" y1=\"84.5\" y2=\"39.5\" class=\"net_10 width_1\" style=\"stroke-width: 1\"/><line x1=\"384\" x2=\"412.6666666666667\" y1=\"39.5\" y2=\"39.5\" class=\"net_10 width_1\" style=\"stroke-width: 1\"/><line x1=\"42\" x2=\"214\" y1=\"257.5\" y2=\"257.5\" class=\"net_4 width_1\" style=\"stroke-width: 1\"/><line x1=\"42\" x2=\"138\" y1=\"257.5\" y2=\"257.5\" class=\"net_4 width_1\" style=\"stroke-width: 1\"/><line x1=\"138\" x2=\"138\" y1=\"257.5\" y2=\"287.5\" class=\"net_4 width_1\" style=\"stroke-width: 1\"/><circle cx=\"138\" cy=\"257.5\" r=\"2\" style=\"fill:#000\" class=\"net_4 width_1\"/><line x1=\"138\" x2=\"279\" y1=\"287.5\" y2=\"287.5\" class=\"net_4 width_1\" style=\"stroke-width: 1\"/><line x1=\"42\" x2=\"52\" y1=\"257.5\" y2=\"257.5\" class=\"net_4 width_1\" style=\"stroke-width: 1\"/><line x1=\"52\" x2=\"52\" y1=\"257.5\" y2=\"98\" class=\"net_4 width_1\" style=\"stroke-width: 1\"/><circle cx=\"52\" cy=\"257.5\" r=\"2\" style=\"fill:#000\" class=\"net_4 width_1\"/><line x1=\"52\" x2=\"77\" y1=\"98\" y2=\"98\" class=\"net_4 width_1\" style=\"stroke-width: 1\"/><line x1=\"105\" x2=\"118\" y1=\"229\" y2=\"229\" class=\"net_11 width_1\" style=\"stroke-width: 1\"/><line x1=\"118\" x2=\"118\" y1=\"229\" y2=\"272.5\" class=\"net_11 width_1\" style=\"stroke-width: 1\"/><circle cx=\"118\" cy=\"229\" r=\"2\" style=\"fill:#000\" class=\"net_11 width_1\"/><line x1=\"118\" x2=\"214\" y1=\"272.5\" y2=\"272.5\" class=\"net_11 width_1\" style=\"stroke-width: 1\"/><line x1=\"105\" x2=\"118\" y1=\"229\" y2=\"229\" class=\"net_11 width_1\" style=\"stroke-width: 1\"/><line x1=\"118\" x2=\"118\" y1=\"229\" y2=\"159\" class=\"net_11 width_1\" style=\"stroke-width: 1\"/><line x1=\"118\" x2=\"148.66666666666666\" y1=\"159\" y2=\"159\" class=\"net_11 width_1\" style=\"stroke-width: 1\"/><line x1=\"244\" x2=\"254\" y1=\"265\" y2=\"265\" class=\"net_12 width_1\" style=\"stroke-width: 1\"/><line x1=\"254\" x2=\"254\" y1=\"265\" y2=\"226.5\" class=\"net_12 width_1\" style=\"stroke-width: 1\"/><line x1=\"254\" x2=\"279\" y1=\"226.5\" y2=\"226.5\" class=\"net_12 width_1\" style=\"stroke-width: 1\"/><line x1=\"176\" x2=\"189\" y1=\"226.5\" y2=\"226.5\" class=\"net_13 width_1\" style=\"stroke-width: 1\"/><line x1=\"189\" x2=\"189\" y1=\"226.5\" y2=\"241.5\" class=\"net_13 width_1\" style=\"stroke-width: 1\"/><circle cx=\"189\" cy=\"226.5\" r=\"2\" style=\"fill:#000\" class=\"net_13 width_1\"/><line x1=\"189\" x2=\"279\" y1=\"241.5\" y2=\"241.5\" class=\"net_13 width_1\" style=\"stroke-width: 1\"/><line x1=\"176\" x2=\"214\" y1=\"226.5\" y2=\"226.5\" class=\"net_13 width_1\" style=\"stroke-width: 1\"/><line x1=\"42\" x2=\"62\" y1=\"118\" y2=\"118\" class=\"net_5 width_1\" style=\"stroke-width: 1\"/><line x1=\"62\" x2=\"62\" y1=\"118\" y2=\"302.5\" class=\"net_5 width_1\" style=\"stroke-width: 1\"/><circle cx=\"62\" cy=\"118\" r=\"2\" style=\"fill:#000\" class=\"net_5 width_1\"/><line x1=\"62\" x2=\"279\" y1=\"302.5\" y2=\"302.5\" class=\"net_5 width_1\" style=\"stroke-width: 1\"/><line x1=\"42\" x2=\"138\" y1=\"118\" y2=\"118\" class=\"net_5 width_1\" style=\"stroke-width: 1\"/><line x1=\"138\" x2=\"138\" y1=\"118\" y2=\"113\" class=\"net_5 width_1\" style=\"stroke-width: 1\"/><line x1=\"138\" x2=\"148.66666666666666\" y1=\"113\" y2=\"113\" class=\"net_5 width_1\" style=\"stroke-width: 1\"/><line x1=\"42\" x2=\"62\" y1=\"118\" y2=\"118\" class=\"net_5 width_1\" style=\"stroke-width: 1\"/><line x1=\"62\" x2=\"62\" y1=\"118\" y2=\"77\" class=\"net_5 width_1\" style=\"stroke-width: 1\"/><line x1=\"62\" x2=\"344\" y1=\"77\" y2=\"77\" class=\"net_5 width_1\" style=\"stroke-width: 1\"/><line x1=\"42\" x2=\"62\" y1=\"118\" y2=\"118\" class=\"net_5 width_1\" style=\"stroke-width: 1\"/><line x1=\"62\" x2=\"62\" y1=\"118\" y2=\"229\" class=\"net_5 width_1\" style=\"stroke-width: 1\"/><circle cx=\"62\" cy=\"229\" r=\"2\" style=\"fill:#000\" class=\"net_5 width_1\"/><line x1=\"62\" x2=\"77\" y1=\"229\" y2=\"229\" class=\"net_5 width_1\" style=\"stroke-width: 1\"/><line x1=\"309\" x2=\"344\" y1=\"295\" y2=\"295\" class=\"net_15 width_1\" style=\"stroke-width: 1\"/><line x1=\"108\" x2=\"128\" y1=\"174\" y2=\"174\" class=\"net_6 width_1\" style=\"stroke-width: 1\"/><line x1=\"128\" x2=\"128\" y1=\"174\" y2=\"317.5\" class=\"net_6 width_1\" style=\"stroke-width: 1\"/><line x1=\"128\" x2=\"319\" y1=\"317.5\" y2=\"317.5\" class=\"net_6 width_1\" style=\"stroke-width: 1\"/><line x1=\"319\" x2=\"319\" y1=\"317.5\" y2=\"310\" class=\"net_6 width_1\" style=\"stroke-width: 1\"/><circle cx=\"128\" cy=\"174\" r=\"2\" style=\"fill:#000\" class=\"net_6 width_1\"/><line x1=\"319\" x2=\"344\" y1=\"310\" y2=\"310\" class=\"net_6 width_1\" style=\"stroke-width: 1\"/><line x1=\"108\" x2=\"189\" y1=\"174\" y2=\"174\" class=\"net_6 width_1\" style=\"stroke-width: 1\"/><line x1=\"189\" x2=\"189\" y1=\"174\" y2=\"166.5\" class=\"net_6 width_1\" style=\"stroke-width: 1\"/><line x1=\"189\" x2=\"214\" y1=\"166.5\" y2=\"166.5\" class=\"net_6 width_1\" style=\"stroke-width: 1\"/><line x1=\"108\" x2=\"128\" y1=\"174\" y2=\"174\" class=\"net_6 width_1\" style=\"stroke-width: 1\"/><line x1=\"128\" x2=\"128\" y1=\"174\" y2=\"48\" class=\"net_6 width_1\" style=\"stroke-width: 1\"/><line x1=\"128\" x2=\"279\" y1=\"48\" y2=\"48\" class=\"net_6 width_1\" style=\"stroke-width: 1\"/><line x1=\"108\" x2=\"128\" y1=\"174\" y2=\"174\" class=\"net_6 width_1\" style=\"stroke-width: 1\"/><line x1=\"128\" x2=\"128\" y1=\"174\" y2=\"128\" class=\"net_6 width_1\" style=\"stroke-width: 1\"/><line x1=\"128\" x2=\"319\" y1=\"128\" y2=\"128\" class=\"net_6 width_1\" style=\"stroke-width: 1\"/><line x1=\"319\" x2=\"319\" y1=\"128\" y2=\"92\" class=\"net_6 width_1\" style=\"stroke-width: 1\"/><circle cx=\"128\" cy=\"128\" r=\"2\" style=\"fill:#000\" class=\"net_6 width_1\"/><line x1=\"319\" x2=\"344\" y1=\"92\" y2=\"92\" class=\"net_6 width_1\" style=\"stroke-width: 1\"/><line x1=\"108\" x2=\"128\" y1=\"174\" y2=\"174\" class=\"net_6 width_1\" style=\"stroke-width: 1\"/><line x1=\"128\" x2=\"128\" y1=\"174\" y2=\"226.5\" class=\"net_6 width_1\" style=\"stroke-width: 1\"/><circle cx=\"128\" cy=\"226.5\" r=\"2\" style=\"fill:#000\" class=\"net_6 width_1\"/><line x1=\"128\" x2=\"148\" y1=\"226.5\" y2=\"226.5\" class=\"net_6 width_1\" style=\"stroke-width: 1\"/><line x1=\"105\" x2=\"118\" y1=\"98\" y2=\"98\" class=\"net_17 width_1\" style=\"stroke-width: 1\"/><line x1=\"118\" x2=\"118\" y1=\"98\" y2=\"144\" class=\"net_17 width_1\" style=\"stroke-width: 1\"/><circle cx=\"118\" cy=\"98\" r=\"2\" style=\"fill:#000\" class=\"net_17 width_1\"/><line x1=\"118\" x2=\"148.66666666666666\" y1=\"144\" y2=\"144\" class=\"net_17 width_1\" style=\"stroke-width: 1\"/><line x1=\"105\" x2=\"148.66666666666666\" y1=\"98\" y2=\"98\" class=\"net_17 width_1\" style=\"stroke-width: 1\"/><line x1=\"105\" x2=\"118\" y1=\"98\" y2=\"98\" class=\"net_17 width_1\" style=\"stroke-width: 1\"/><line x1=\"118\" x2=\"118\" y1=\"98\" y2=\"33\" class=\"net_17 width_1\" style=\"stroke-width: 1\"/><line x1=\"118\" x2=\"279\" y1=\"33\" y2=\"33\" class=\"net_17 width_1\" style=\"stroke-width: 1\"/><line x1=\"178.66666666666666\" x2=\"214\" y1=\"151.5\" y2=\"151.5\" class=\"net_18 width_1\" style=\"stroke-width: 1\"/><line x1=\"244\" x2=\"281\" y1=\"159\" y2=\"159\" class=\"net_19 width_1\" style=\"stroke-width: 1\"/><line x1=\"244\" x2=\"254\" y1=\"219\" y2=\"219\" class=\"net_20 width_1\" style=\"stroke-width: 1\"/><line x1=\"254\" x2=\"254\" y1=\"219\" y2=\"174\" class=\"net_20 width_1\" style=\"stroke-width: 1\"/><line x1=\"254\" x2=\"281\" y1=\"174\" y2=\"174\" class=\"net_20 width_1\" style=\"stroke-width: 1\"/><line x1=\"309\" x2=\"346\" y1=\"166.5\" y2=\"166.5\" class=\"net_21 width_1\" style=\"stroke-width: 1\"/><line x1=\"309\" x2=\"319\" y1=\"234\" y2=\"234\" class=\"net_14 width_1\" style=\"stroke-width: 1\"/><line x1=\"319\" x2=\"319\" y1=\"234\" y2=\"181.5\" class=\"net_14 width_1\" style=\"stroke-width: 1\"/><line x1=\"319\" x2=\"346\" y1=\"181.5\" y2=\"181.5\" class=\"net_14 width_1\" style=\"stroke-width: 1\"/><line x1=\"374\" x2=\"411\" y1=\"174\" y2=\"174\" class=\"net_22 width_1\" style=\"stroke-width: 1\"/><line x1=\"374\" x2=\"384\" y1=\"302.5\" y2=\"302.5\" class=\"net_16 width_1\" style=\"stroke-width: 1\"/><line x1=\"384\" x2=\"384\" y1=\"302.5\" y2=\"189\" class=\"net_16 width_1\" style=\"stroke-width: 1\"/><line x1=\"384\" x2=\"411\" y1=\"189\" y2=\"189\" class=\"net_16 width_1\" style=\"stroke-width: 1\"/><line x1=\"436.6666666666667\" x2=\"474\" y1=\"32\" y2=\"32\" class=\"net_2 width_1\" style=\"stroke-width: 1\"/><line x1=\"439\" x2=\"474\" y1=\"181.5\" y2=\"181.5\" class=\"net_3 width_1\" style=\"stroke-width: 1\"/></svg>"
          },
          "metadata": {}
        }
      ]
    },
    {
      "cell_type": "code",
      "source": [
        "%%verilog\n",
        "\n",
        "////\n",
        "module main;\n",
        " wire Bt,Dt;\n",
        " reg xt,yt,zt;\n",
        "\n",
        " fs fs1(Bt,Dt,xt,yt,zt);\n",
        "\n",
        " initial xt=0; always #40 xt=~xt;\n",
        " initial yt=0; always #20 yt=~yt;\n",
        " initial zt=0; always #10 zt=~zt;\n",
        "\n",
        " initial\n",
        "  begin\n",
        "   #71 $finish;\n",
        "  end\n",
        "\n",
        " initial\n",
        "  $monitor($time, \" B=%b,D=%b | x=%b,y=%b,z=%b\", Bt,Dt,xt,yt,zt);\n",
        "\n",
        "endmodule\n",
        "////\n",
        "\n",
        "////\n",
        "module fs(B,D,x,y,z);\n",
        " output reg B,D;\n",
        " input x,y,z;\n",
        "\n",
        " always @(*)\n",
        "  begin\n",
        "   D <= (~x & ~y & z) || (~x & y & ~z) || (x & ~y & ~z) || (x & y & z);\n",
        "   B <= (~x & y) + (~x & z) + (y & z);\n",
        "  end\n",
        "\n",
        "endmodule\n",
        "////"
      ],
      "metadata": {
        "colab": {
          "base_uri": "https://localhost:8080/"
        },
        "id": "ViOxqvJsNgrE",
        "outputId": "fa6912da-17fb-449b-99e4-8822aecd2b06"
      },
      "execution_count": 45,
      "outputs": [
        {
          "output_type": "stream",
          "name": "stdout",
          "text": [
            "                   0 B=0,D=0 | x=0,y=0,z=0\n",
            "                  10 B=1,D=1 | x=0,y=0,z=1\n",
            "                  20 B=1,D=1 | x=0,y=1,z=0\n",
            "                  30 B=1,D=0 | x=0,y=1,z=1\n",
            "                  40 B=0,D=1 | x=1,y=0,z=0\n",
            "                  50 B=0,D=0 | x=1,y=0,z=1\n",
            "                  60 B=0,D=0 | x=1,y=1,z=0\n",
            "                  70 B=1,D=1 | x=1,y=1,z=1\n",
            "\n"
          ]
        }
      ]
    },
    {
      "cell_type": "markdown",
      "source": [
        "# E. Behavioural Modelling"
      ],
      "metadata": {
        "id": "luIRD8CzOnhG"
      }
    },
    {
      "cell_type": "markdown",
      "source": [
        "1. Declare a register called oscillate. Initialize it to 0 and make it toggle every 30 time units. Do not use always statement (Hint: Use the forever loop). This is a testbench design. Note: always statement is introduced and used in this course for clock generation."
      ],
      "metadata": {
        "id": "28DMTJR7PZ9W"
      }
    },
    {
      "cell_type": "code",
      "source": [
        "%%verilog\n",
        "\n",
        "module oscillate_tb;\n",
        " reg ocsillate;\n",
        "\n",
        " initial\n",
        "  begin\n",
        "   ocsillate=1'b0;\n",
        "   forever #30 ocsillate=~ocsillate;\n",
        "  end\n",
        "\n",
        " initial\n",
        "  begin\n",
        "   $dumpfile(\"oscillate.vcd\");\n",
        "   $dumpvars(0,oscillate_tb);\n",
        "   #151 $finish;\n",
        "  end\n",
        "\n",
        " initial\n",
        "  $monitor($time,\" oscillate=%b\",ocsillate);\n",
        "\n",
        "endmodule"
      ],
      "metadata": {
        "colab": {
          "base_uri": "https://localhost:8080/"
        },
        "id": "5M8LwppZPdI2",
        "outputId": "ffcd2499-66f7-4054-987b-a969996ac5b6"
      },
      "execution_count": 46,
      "outputs": [
        {
          "output_type": "stream",
          "name": "stdout",
          "text": [
            "VCD info: dumpfile oscillate.vcd opened for output.\n",
            "                   0 oscillate=0\n",
            "                  30 oscillate=1\n",
            "                  60 oscillate=0\n",
            "                  90 oscillate=1\n",
            "                 120 oscillate=0\n",
            "                 150 oscillate=1\n",
            "\n"
          ]
        }
      ]
    },
    {
      "cell_type": "markdown",
      "source": [
        "2. Design a clock with time period = 40 and a duty cycle of 25% by using the always and initial statements. The value of clock at time = 0 should be initialized to 0.\n",
        "$$D=\\frac{t_{on}}{T}=0.25$$\n",
        "$$t_{on}=D\\cdot T=0.25\\cdot 40=10$$\n",
        "$$t_{off}=T-t_{on}=40-10=30$$"
      ],
      "metadata": {
        "id": "1cyBAtuCPpEm"
      }
    },
    {
      "cell_type": "code",
      "source": [
        "%%verilog\n",
        "\n",
        "module d25_tb;\n",
        " reg clock;\n",
        "\n",
        " initial clock=0;\n",
        " always\n",
        "  begin\n",
        "    #30 clock=~clock;\n",
        "    #10 clock=~clock;\n",
        "  end\n",
        "\n",
        " initial\n",
        " begin\n",
        "  $dumpfile(\"d25.vcd\");\n",
        "  $dumpvars(0,d25_tb);\n",
        "  #121 $finish;\n",
        " end\n",
        "\n",
        " initial\n",
        "  $monitor($time, \" clock=%b\", clock);\n",
        "\n",
        "endmodule"
      ],
      "metadata": {
        "colab": {
          "base_uri": "https://localhost:8080/"
        },
        "id": "HoN2exCfPxKP",
        "outputId": "7bcf099f-727e-45ca-b85f-fa3d55359393"
      },
      "execution_count": 47,
      "outputs": [
        {
          "output_type": "stream",
          "name": "stdout",
          "text": [
            "VCD info: dumpfile d25.vcd opened for output.\n",
            "                   0 clock=0\n",
            "                  30 clock=1\n",
            "                  40 clock=0\n",
            "                  70 clock=1\n",
            "                  80 clock=0\n",
            "                 110 clock=1\n",
            "                 120 clock=0\n",
            "\n"
          ]
        }
      ]
    },
    {
      "cell_type": "markdown",
      "source": [
        "3. Given below is an initial block with blocking procedural assignments. At what simulation time is each statement executed? What are the intermediate and final values of a, b, c, d? Write a Verilog testbench to display the results, using $monitor, and waveform.\n"
      ],
      "metadata": {
        "id": "wWrrxgVKP5C_"
      }
    },
    {
      "cell_type": "markdown",
      "source": [
        "![image.png](data:image/png;base64,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)"
      ],
      "metadata": {
        "id": "wmfdjlfgP6r1"
      }
    },
    {
      "cell_type": "code",
      "source": [
        "%%verilog\n",
        "\n",
        "//Blocking\n",
        "module abcd_tb;\n",
        " reg a,b,c;\n",
        " reg [2:0] d;\n",
        "\n",
        " initial begin\n",
        "  a = 1'b0;\n",
        "  b = #10 1'b1;\n",
        "  c = #5 1'b0;\n",
        "  d = #20 {a,b,c};\n",
        " end\n",
        "\n",
        " initial begin\n",
        "  $dumpfile(\"abcd.vcd\");\n",
        "  $dumpvars(0,abcd_tb);\n",
        "  #36 $finish;\n",
        " end\n",
        "\n",
        " initial\n",
        "  $monitor($time, \" a=%b b=%b c=%b d=%b\", a,b,c,d);\n",
        "\n",
        "endmodule"
      ],
      "metadata": {
        "colab": {
          "base_uri": "https://localhost:8080/"
        },
        "id": "LVaucziYP8qG",
        "outputId": "0194e28b-cda2-430d-e2c2-b1183e4f9e96"
      },
      "execution_count": 48,
      "outputs": [
        {
          "output_type": "stream",
          "name": "stdout",
          "text": [
            "VCD info: dumpfile abcd.vcd opened for output.\n",
            "                   0 a=0 b=x c=x d=xxx\n",
            "                  10 a=0 b=1 c=x d=xxx\n",
            "                  15 a=0 b=1 c=0 d=xxx\n",
            "                  35 a=0 b=1 c=0 d=010\n",
            "\n"
          ]
        }
      ]
    },
    {
      "cell_type": "code",
      "source": [
        "%%waveform abcd.vcd\n",
        "sign_list = ['abcd_tb.a', 'abcd_tb.b', 'abcd_tb.c', 'abcd_tb.d']\n",
        "time_begin = 0\n",
        "time_end = 40\n",
        "base = 'bin' # bin, dec, dec2, hex, octal"
      ],
      "metadata": {
        "id": "NBUcurEDtm1z",
        "outputId": "d0c6de14-5a0d-42a9-bce0-245305fb3cb2",
        "colab": {
          "base_uri": "https://localhost:8080/",
          "height": 280
        }
      },
      "execution_count": 6,
      "outputs": [
        {
          "output_type": "display_data",
          "data": {
            "text/plain": [
              "<Figure size 4100x500 with 1 Axes>"
            ],
            "image/png": "[encoded data removed]"
          },
          "metadata": {}
        }
      ]
    },
    {
      "cell_type": "code",
      "source": [
        "%%verilog\n",
        "\n",
        "//non-blocking\n",
        "module abcd1_tb;\n",
        " reg a,b,c;\n",
        " reg [2:0] d;\n",
        "\n",
        " initial begin\n",
        "  a <= 1'b0;\n",
        "  b <= #10 1'b1;\n",
        "  c <= #5 1'b0;\n",
        "  d <= #20 {a,b,c};\n",
        " end\n",
        "\n",
        " initial begin\n",
        "  $dumpfile(\"abcd1.vcd\");\n",
        "  $dumpvars(0,abcd1_tb);\n",
        "  #36 $finish;\n",
        " end\n",
        "\n",
        " initial\n",
        "  $monitor($time, \" a=%b b=%b c=%b d=%b\", a,b,c,d);\n",
        "\n",
        "endmodule\n"
      ],
      "metadata": {
        "colab": {
          "base_uri": "https://localhost:8080/"
        },
        "id": "c-X9n9G3QD72",
        "outputId": "f17aa457-0711-4fa2-c273-669fb4883a11"
      },
      "execution_count": 49,
      "outputs": [
        {
          "output_type": "stream",
          "name": "stdout",
          "text": [
            "VCD info: dumpfile abcd1.vcd opened for output.\n",
            "                   0 a=0 b=x c=x d=xxx\n",
            "                   5 a=0 b=x c=0 d=xxx\n",
            "                  10 a=0 b=1 c=0 d=xxx\n",
            "\n"
          ]
        }
      ]
    },
    {
      "cell_type": "code",
      "source": [
        "%%waveform abcd1.vcd\n",
        "sign_list = ['abcd1_tb.a', 'abcd1_tb.b', 'abcd1_tb.c', 'abcd1_tb.d']\n",
        "time_begin = 0\n",
        "time_end = 40\n",
        "base = 'bin' # bin, dec, dec2, hex, octal"
      ],
      "metadata": {
        "id": "HtNAIdsJuQkp",
        "outputId": "4713039e-bc84-4ab0-d5ce-f3d282a72ad5",
        "colab": {
          "base_uri": "https://localhost:8080/",
          "height": 279
        }
      },
      "execution_count": 10,
      "outputs": [
        {
          "output_type": "display_data",
          "data": {
            "text/plain": [
              "<Figure size 4100x500 with 1 Axes>"
            ],
            "image/png": "[encoded data removed]"
          },
          "metadata": {}
        }
      ]
    },
    {
      "cell_type": "markdown",
      "source": [
        "7. Design a negative edge-triggered D-flipflop(D_FF) with synchronous clear, active high (D_FF clears only at a negative edge of clock when clear is high). Use behavioral statements only. (Hint: Output q of D_FF must be declared as reg). Design a clock with a period of 10 units and test the D_FF.\n",
        "\n"
      ],
      "metadata": {
        "id": "YG9qeblLQ-_m"
      }
    },
    {
      "cell_type": "code",
      "source": [
        "%%print_verilog\n",
        "\n",
        "module dff(q,d,clock,clear);\n",
        " output reg q;\n",
        " input d,clock,clear;\n",
        "\n",
        " always @(negedge clock)\n",
        "  if (clear) q<=1'b0;\n",
        "  else q<=d;\n",
        "\n",
        "endmodule"
      ],
      "metadata": {
        "colab": {
          "base_uri": "https://localhost:8080/",
          "height": 236
        },
        "id": "QSOz_gVYReNW",
        "outputId": "e59de0f9-dedd-4d53-e80f-c799396b3b43"
      },
      "execution_count": 50,
      "outputs": [
        {
          "output_type": "display_data",
          "data": {
            "text/plain": [
              "<IPython.core.display.SVG object>"
            ],
            "image/svg+xml": "<svg xmlns=\"http://www.w3.org/2000/svg\" xmlns:xlink=\"http://www.w3.org/1999/xlink\" xmlns:s=\"https://github.com/nturley/netlistsvg\" width=\"252\" height=\"214\"><style>svg {\n  stroke:#000;\n  fill:none;\n}\ntext {\n  fill:#000;\n  stroke:none;\n  font-size:10px;\n  font-weight: bold;\n  font-family: &quot;Courier New&quot;, monospace;\n}\nline {\n    stroke-linecap: round;\n}\n.nodelabel {\n  text-anchor: middle;\n}\n.inputPortLabel {\n  text-anchor: end;\n}\n.splitjoinBody {\n  fill:#000;\n}</style><g s:type=\"dff\" transform=\"translate(144,32)\" s:width=\"30\" s:height=\"40\" id=\"cell_$procdff$5\"><s:alias val=\"$dff\"/><s:alias val=\"$_DFF_\"/><s:alias val=\"$_DFF_P_\"/><s:alias val=\"$adff\"/><s:alias val=\"$_DFF_\"/><s:alias val=\"$_DFF_P_\"/><s:alias val=\"$sdff\"/><s:alias val=\"$_DFF_\"/><s:alias val=\"$_DFF_P_\"/><rect width=\"30\" height=\"40\" x=\"0\" y=\"0\" class=\"cell_$procdff$5\"/><path d=\"M0,35 L5,30 L0,25\" class=\"cell_$procdff$5\"/><g s:x=\"31\" s:y=\"10\" s:pid=\"Q\"/><g s:x=\"-1\" s:y=\"30\" s:pid=\"CLK\"/><g s:x=\"-1\" s:y=\"30\" s:pid=\"C\"/><g s:x=\"-1\" s:y=\"10\" s:pid=\"D\"/><g s:x=\"15\" s:y=\"40\" s:pid=\"ARST\"/><g s:x=\"15\" s:y=\"40\" s:pid=\"SRST\"/></g><g s:type=\"mux\" transform=\"translate(81.33333333333333,22)\" s:width=\"20\" s:height=\"40\" id=\"cell_$procmux$3\"><s:alias val=\"$pmux\"/><s:alias val=\"$mux\"/><s:alias val=\"$_MUX_\"/><path d=\"M0,0 L20,10 L20,30 L0,40 Z\" class=\"cell_$procmux$3\"/><text x=\"5\" y=\"32\" class=\"nodelabel cell_$procmux$3\" s:attribute=\"\">1</text><text x=\"5\" y=\"13\" class=\"nodelabel cell_$procmux$3\" s:attribute=\"\">0</text><g s:x=\"0\" s:y=\"10\" s:pid=\"A\"/><g s:x=\"0\" s:y=\"30\" s:pid=\"B\"/><g s:x=\"10\" s:y=\"35\" s:pid=\"S\"/><g s:x=\"20\" s:y=\"20\" s:pid=\"Y\"/></g><g s:type=\"outputExt\" transform=\"translate(210,32)\" s:width=\"30\" s:height=\"20\" id=\"cell_q\"><text x=\"15\" y=\"-4\" class=\"nodelabel cell_q\" s:attribute=\"ref\">q</text><s:alias val=\"$_outputExt_\"/><path d=\"M30,0 L30,20 L15,20 L0,10 L15,0 Z\" class=\"cell_q\"/><g s:x=\"0\" s:y=\"10\" s:pid=\"A\"/></g><g s:type=\"inputExt\" transform=\"translate(12,22)\" s:width=\"30\" s:height=\"20\" id=\"cell_d\"><text x=\"15\" y=\"-4\" class=\"nodelabel cell_d\" s:attribute=\"ref\">d</text><s:alias val=\"$_inputExt_\"/><path d=\"M0,0 L0,20 L15,20 L30,10 L15,0 Z\" class=\"cell_d\"/><g s:x=\"30\" s:y=\"10\" s:pid=\"Y\"/></g><g s:type=\"inputExt\" transform=\"translate(78,182)\" s:width=\"30\" s:height=\"20\" id=\"cell_clock\"><text x=\"15\" y=\"-4\" class=\"nodelabel cell_clock\" s:attribute=\"ref\">clock</text><s:alias val=\"$_inputExt_\"/><path d=\"M0,0 L0,20 L15,20 L30,10 L15,0 Z\" class=\"cell_clock\"/><g s:x=\"30\" s:y=\"10\" s:pid=\"Y\"/></g><g s:type=\"inputExt\" transform=\"translate(12,152)\" s:width=\"30\" s:height=\"20\" id=\"cell_clear\"><text x=\"15\" y=\"-4\" class=\"nodelabel cell_clear\" s:attribute=\"ref\">clear</text><s:alias val=\"$_inputExt_\"/><path d=\"M0,0 L0,20 L15,20 L30,10 L15,0 Z\" class=\"cell_clear\"/><g s:x=\"30\" s:y=\"10\" s:pid=\"Y\"/></g><g s:type=\"constant\" transform=\"translate(12,87)\" s:width=\"30\" s:height=\"20\" id=\"cell_0\"><text x=\"15\" y=\"-4\" class=\"nodelabel cell_0\" s:attribute=\"ref\">0</text><s:alias val=\"$_constant_\"/><rect width=\"30\" height=\"20\" class=\"cell_0\"/><g s:x=\"31\" s:y=\"10\" s:pid=\"Y\"/></g><line x1=\"108\" x2=\"118\" y1=\"192\" y2=\"192\" class=\"net_4 width_1\" style=\"stroke-width: 1\"/><line x1=\"118\" x2=\"118\" y1=\"192\" y2=\"62\" class=\"net_4 width_1\" style=\"stroke-width: 1\"/><line x1=\"118\" x2=\"143\" y1=\"62\" y2=\"62\" class=\"net_4 width_1\" style=\"stroke-width: 1\"/><line x1=\"101.33333333333333\" x2=\"143\" y1=\"42\" y2=\"42\" class=\"net_6 width_1\" style=\"stroke-width: 1\"/><line x1=\"42\" x2=\"81.33333333333333\" y1=\"32\" y2=\"32\" class=\"net_3 width_1\" style=\"stroke-width: 1\"/><line x1=\"43\" x2=\"53\" y1=\"97\" y2=\"97\" class=\"net_7 width_1\" style=\"stroke-width: 1\"/><line x1=\"53\" x2=\"53\" y1=\"97\" y2=\"52\" class=\"net_7 width_1\" style=\"stroke-width: 1\"/><line x1=\"53\" x2=\"81.33333333333333\" y1=\"52\" y2=\"52\" class=\"net_7 width_1\" style=\"stroke-width: 1\"/><line x1=\"42\" x2=\"91.33333333333333\" y1=\"162\" y2=\"162\" class=\"net_5 width_1\" style=\"stroke-width: 1\"/><line x1=\"91.33333333333333\" x2=\"91.33333333333333\" y1=\"162\" y2=\"57\" class=\"net_5 width_1\" style=\"stroke-width: 1\"/><line x1=\"175\" x2=\"210\" y1=\"42\" y2=\"42\" class=\"net_2 width_1\" style=\"stroke-width: 1\"/></svg>"
          },
          "metadata": {}
        }
      ]
    },
    {
      "cell_type": "code",
      "source": [
        "%%verilog\n",
        "\n",
        "module dff(q,d,clock,clear);\n",
        " output reg q;\n",
        " input d,clock,clear;\n",
        "\n",
        " always @(negedge clock)\n",
        "  if (clear) q<=1'b0;\n",
        "  else q<=d;\n",
        "\n",
        "endmodule\n",
        "\n",
        "module dff_tb;\n",
        " wire q;\n",
        " reg d,clock,clear;\n",
        "\n",
        " dff dff1(q,d,clock,clear);\n",
        "\n",
        " initial begin\n",
        "  clock=1'b0;\n",
        "  forever #5 clock=~clock;\n",
        " end\n",
        "\n",
        " initial begin\n",
        "  $dumpfile(\"dff.vcd\");\n",
        "  $dumpvars(0,dff_tb);\n",
        "\n",
        "  #00 d=1'b1; clear=1'b1;\n",
        "  #11 d=1'b1; clear=1'b0;\n",
        "  #11 d=1'b1; clear=1'b1;\n",
        "  #11 $finish;\n",
        " end\n",
        "\n",
        " initial\n",
        "  $monitor($time, \" q=%b,d=%b,clock=%b,clear=%b\",q,d,clock,clear);\n",
        "\n",
        "endmodule\n"
      ],
      "metadata": {
        "colab": {
          "base_uri": "https://localhost:8080/"
        },
        "id": "WdZFFPDERKCf",
        "outputId": "30fbc608-0da7-428a-8499-6a42fec73d9a"
      },
      "execution_count": 51,
      "outputs": [
        {
          "output_type": "stream",
          "name": "stdout",
          "text": [
            "VCD info: dumpfile dff.vcd opened for output.\n",
            "                   0 q=x,d=1,clock=0,clear=1\n",
            "                   5 q=x,d=1,clock=1,clear=1\n",
            "                  10 q=0,d=1,clock=0,clear=1\n",
            "                  11 q=0,d=1,clock=0,clear=0\n",
            "                  15 q=0,d=1,clock=1,clear=0\n",
            "                  20 q=1,d=1,clock=0,clear=0\n",
            "                  22 q=1,d=1,clock=0,clear=1\n",
            "                  25 q=1,d=1,clock=1,clear=1\n",
            "                  30 q=0,d=1,clock=0,clear=1\n",
            "\n"
          ]
        }
      ]
    },
    {
      "cell_type": "markdown",
      "source": [
        "8. Design the D-flipflop in exercise 7 with asynchronous clear (D_FF clears whenever clear goes high. It does not wait for next negative edge). Test the D_FF."
      ],
      "metadata": {
        "id": "U7klV6VkREYO"
      }
    },
    {
      "cell_type": "code",
      "source": [
        "%%print_verilog\n",
        "\n",
        "module dffa(q,d,clock,clear);\n",
        " output reg q;\n",
        " input d,clock,clear;\n",
        "\n",
        " always @(negedge clock or posedge clear)\n",
        "  if (clear) q<=1'b0;\n",
        "  else q<=d;\n",
        "\n",
        "endmodule"
      ],
      "metadata": {
        "colab": {
          "base_uri": "https://localhost:8080/",
          "height": 206
        },
        "id": "QN3tkVkHRkgO",
        "outputId": "17d3e16b-5f52-4cdf-b99e-8c461c5e6a8d"
      },
      "execution_count": 52,
      "outputs": [
        {
          "output_type": "display_data",
          "data": {
            "text/plain": [
              "<IPython.core.display.SVG object>"
            ],
            "image/svg+xml": "<svg xmlns=\"http://www.w3.org/2000/svg\" xmlns:xlink=\"http://www.w3.org/1999/xlink\" xmlns:s=\"https://github.com/nturley/netlistsvg\" width=\"186\" height=\"184\"><style>svg {\n  stroke:#000;\n  fill:none;\n}\ntext {\n  fill:#000;\n  stroke:none;\n  font-size:10px;\n  font-weight: bold;\n  font-family: &quot;Courier New&quot;, monospace;\n}\nline {\n    stroke-linecap: round;\n}\n.nodelabel {\n  text-anchor: middle;\n}\n.inputPortLabel {\n  text-anchor: end;\n}\n.splitjoinBody {\n  fill:#000;\n}</style><g s:type=\"dff\" transform=\"translate(78,22)\" s:width=\"30\" s:height=\"40\" id=\"cell_$procdff$2\"><s:alias val=\"$dff\"/><s:alias val=\"$_DFF_\"/><s:alias val=\"$_DFF_P_\"/><s:alias val=\"$adff\"/><s:alias val=\"$_DFF_\"/><s:alias val=\"$_DFF_P_\"/><s:alias val=\"$sdff\"/><s:alias val=\"$_DFF_\"/><s:alias val=\"$_DFF_P_\"/><rect width=\"30\" height=\"40\" x=\"0\" y=\"0\" class=\"cell_$procdff$2\"/><path d=\"M0,35 L5,30 L0,25\" class=\"cell_$procdff$2\"/><g s:x=\"31\" s:y=\"10\" s:pid=\"Q\"/><g s:x=\"-1\" s:y=\"30\" s:pid=\"CLK\"/><g s:x=\"-1\" s:y=\"30\" s:pid=\"C\"/><g s:x=\"-1\" s:y=\"10\" s:pid=\"D\"/><g s:x=\"15\" s:y=\"40\" s:pid=\"ARST\"/><g s:x=\"15\" s:y=\"40\" s:pid=\"SRST\"/></g><g s:type=\"outputExt\" transform=\"translate(144,22)\" s:width=\"30\" s:height=\"20\" id=\"cell_q\"><text x=\"15\" y=\"-4\" class=\"nodelabel cell_q\" s:attribute=\"ref\">q</text><s:alias val=\"$_outputExt_\"/><path d=\"M30,0 L30,20 L15,20 L0,10 L15,0 Z\" class=\"cell_q\"/><g s:x=\"0\" s:y=\"10\" s:pid=\"A\"/></g><g s:type=\"inputExt\" transform=\"translate(12,22)\" s:width=\"30\" s:height=\"20\" id=\"cell_d\"><text x=\"15\" y=\"-4\" class=\"nodelabel cell_d\" s:attribute=\"ref\">d</text><s:alias val=\"$_inputExt_\"/><path d=\"M0,0 L0,20 L15,20 L30,10 L15,0 Z\" class=\"cell_d\"/><g s:x=\"30\" s:y=\"10\" s:pid=\"Y\"/></g><g s:type=\"inputExt\" transform=\"translate(12,87)\" s:width=\"30\" s:height=\"20\" id=\"cell_clock\"><text x=\"15\" y=\"-4\" class=\"nodelabel cell_clock\" s:attribute=\"ref\">clock</text><s:alias val=\"$_inputExt_\"/><path d=\"M0,0 L0,20 L15,20 L30,10 L15,0 Z\" class=\"cell_clock\"/><g s:x=\"30\" s:y=\"10\" s:pid=\"Y\"/></g><g s:type=\"inputExt\" transform=\"translate(12,152)\" s:width=\"30\" s:height=\"20\" id=\"cell_clear\"><text x=\"15\" y=\"-4\" class=\"nodelabel cell_clear\" s:attribute=\"ref\">clear</text><s:alias val=\"$_inputExt_\"/><path d=\"M0,0 L0,20 L15,20 L30,10 L15,0 Z\" class=\"cell_clear\"/><g s:x=\"30\" s:y=\"10\" s:pid=\"Y\"/></g><line x1=\"42\" x2=\"93\" y1=\"162\" y2=\"162\" class=\"net_5 width_1\" style=\"stroke-width: 1\"/><line x1=\"93\" x2=\"93\" y1=\"162\" y2=\"62\" class=\"net_5 width_1\" style=\"stroke-width: 1\"/><line x1=\"42\" x2=\"52\" y1=\"97\" y2=\"97\" class=\"net_4 width_1\" style=\"stroke-width: 1\"/><line x1=\"52\" x2=\"52\" y1=\"97\" y2=\"52\" class=\"net_4 width_1\" style=\"stroke-width: 1\"/><line x1=\"52\" x2=\"77\" y1=\"52\" y2=\"52\" class=\"net_4 width_1\" style=\"stroke-width: 1\"/><line x1=\"42\" x2=\"77\" y1=\"32\" y2=\"32\" class=\"net_3 width_1\" style=\"stroke-width: 1\"/><line x1=\"109\" x2=\"144\" y1=\"32\" y2=\"32\" class=\"net_2 width_1\" style=\"stroke-width: 1\"/></svg>"
          },
          "metadata": {}
        }
      ]
    },
    {
      "cell_type": "code",
      "source": [
        "%%verilog\n",
        "\n",
        "module dffa(q,d,clock,clear);\n",
        " output reg q;\n",
        " input d,clock,clear;\n",
        "\n",
        " always @(negedge clock or posedge clear)\n",
        "  if (clear) q<=1'b0;\n",
        "  else q<=d;\n",
        "\n",
        "endmodule\n",
        "\n",
        "module dffa_tb;\n",
        " wire q;\n",
        " reg d,clock,clear;\n",
        "\n",
        " dffa dffa1(q,d,clock,clear);\n",
        "\n",
        " initial begin\n",
        "  clock=1'b0;\n",
        "  forever #5 clock=~clock;\n",
        " end\n",
        "\n",
        " initial begin\n",
        "  $dumpfile(\"dffa.vcd\");\n",
        "  $dumpvars(0,dffa_tb);\n",
        "\n",
        "  #00 d=1'b1; clear=1'b1;\n",
        "  #11 d=1'b1; clear=1'b0;\n",
        "  #11 d=1'b1; clear=1'b1;\n",
        "  #11 $finish;\n",
        " end\n",
        "\n",
        " initial\n",
        "  $monitor($time, \" q=%b,d=%b,clock=%b,clear=%b\",q,d,clock,clear);\n",
        "\n",
        "endmodule\n",
        "\n"
      ],
      "metadata": {
        "colab": {
          "base_uri": "https://localhost:8080/"
        },
        "id": "GbgCxXOJRKfe",
        "outputId": "558d47f9-d46a-4522-e3be-26080b8cea77"
      },
      "execution_count": 53,
      "outputs": [
        {
          "output_type": "stream",
          "name": "stdout",
          "text": [
            "VCD info: dumpfile dffa.vcd opened for output.\n",
            "                   0 q=0,d=1,clock=0,clear=1\n",
            "                   5 q=0,d=1,clock=1,clear=1\n",
            "                  10 q=0,d=1,clock=0,clear=1\n",
            "                  11 q=0,d=1,clock=0,clear=0\n",
            "                  15 q=0,d=1,clock=1,clear=0\n",
            "                  20 q=1,d=1,clock=0,clear=0\n",
            "                  22 q=0,d=1,clock=0,clear=1\n",
            "                  25 q=0,d=1,clock=1,clear=1\n",
            "                  30 q=0,d=1,clock=0,clear=1\n",
            "\n"
          ]
        }
      ]
    },
    {
      "cell_type": "markdown",
      "source": [
        "9. Design the 4-to-1 multiplexer by using\n",
        "\n",
        "a) if and else statements,\n",
        "\n",
        "b) case statements, with reference to the table below.\n",
        "\n",
        "### 2-to-1 Multiplexer Truth Table\n",
        "\n",
        "| **Select** |     | **Output** |\n",
        "|------------|-----|------------|\n",
        "| **s1**     | **s0** | **out** |\n",
        "|------------|-----|------------|\n",
        "| 0          | 0   | i0         |\n",
        "| 0          | 1   | i1         |\n",
        "| 1          | 0   | i2         |\n",
        "| 1          | 1   | i3         |\n"
      ],
      "metadata": {
        "id": "LZ3XihqbRtZ-"
      }
    },
    {
      "cell_type": "code",
      "source": [
        "%%print_verilog\n",
        "\n",
        "//Design the 4-to-1 multiplexer by using b) case statements\n",
        "module mux4to1(out,i3,i2,i1,i0,sel);\n",
        " output reg [1:0] out;\n",
        " input [1:0] i3,i2,i1,i0;\n",
        " input [1:0] sel;\n",
        "\n",
        " always @(*) begin\n",
        "  case(sel)\n",
        "   2'b00: out = i0;\n",
        "   2'b01: out = i1;\n",
        "   2'b10: out = i2;\n",
        "   2'b11: out = i3;\n",
        "   default: out = 2'bxx;\n",
        "  endcase\n",
        " end\n",
        "\n",
        "endmodule"
      ],
      "metadata": {
        "colab": {
          "base_uri": "https://localhost:8080/",
          "height": 550
        },
        "id": "Zkq32qK_S0KH",
        "outputId": "b4f38636-c034-47e6-cb4d-bb91f4212e3d"
      },
      "execution_count": 54,
      "outputs": [
        {
          "output_type": "display_data",
          "data": {
            "text/plain": [
              "<IPython.core.display.SVG object>"
            ],
            "image/svg+xml": "<svg xmlns=\"http://www.w3.org/2000/svg\" xmlns:xlink=\"http://www.w3.org/1999/xlink\" xmlns:s=\"https://github.com/nturley/netlistsvg\" width=\"450.5\" height=\"528\"><style>svg {\n  stroke:#000;\n  fill:none;\n}\ntext {\n  fill:#000;\n  stroke:none;\n  font-size:10px;\n  font-weight: bold;\n  font-family: &quot;Courier New&quot;, monospace;\n}\nline {\n    stroke-linecap: round;\n}\n.nodelabel {\n  text-anchor: middle;\n}\n.inputPortLabel {\n  text-anchor: end;\n}\n.splitjoinBody {\n  fill:#000;\n}</style><g s:type=\"mux-bus\" transform=\"translate(310,57)\" s:width=\"24\" s:height=\"40\" id=\"cell_$procmux$2\"><s:alias val=\"$pmux-bus\"/><s:alias val=\"$mux-bus\"/><s:alias val=\"$_MUX_-bus\"/><path d=\"M0,0 L20,10 L20,30 L0,40 Z\" class=\"cell_$procmux$2\"/><path d=\"M4,2 L4,0 L22,9 L22,31 L4,40 L4,38\" class=\"cell_$procmux$2\"/><path d=\"M8,2 L8,0 L24,8 L24,32 L8,40 L8,38\" class=\"cell_$procmux$2\"/><text x=\"5\" y=\"32\" class=\"nodelabel cell_$procmux$2\" s:attribute=\"\">1</text><text x=\"5\" y=\"13\" class=\"nodelabel cell_$procmux$2\" s:attribute=\"\">0</text><g s:x=\"-1\" s:y=\"10\" s:pid=\"A\"/><g s:x=\"-1\" s:y=\"30\" s:pid=\"B\"/><g s:x=\"12\" s:y=\"38\" s:pid=\"S\"/><g s:x=\"24.5\" s:y=\"20\" s:pid=\"Y\"/></g><g s:type=\"eq\" transform=\"translate(146.33333333333334,271)\" s:width=\"25\" s:height=\"25\" id=\"cell_$procmux$3_CMP0\"><s:alias val=\"$eq\"/><s:alias val=\"$eqx\"/><circle r=\"12.5\" cx=\"12.5\" cy=\"12.5\" class=\"cell_$procmux$3_CMP0\"/><line x1=\"7.5\" x2=\"17.5\" y1=\"10\" y2=\"10\" class=\"cell_$procmux$3_CMP0\"/><line x1=\"7.5\" x2=\"17.5\" y1=\"15\" y2=\"15\" class=\"cell_$procmux$3_CMP0\"/><g s:x=\"2\" s:y=\"5\" s:pid=\"A\"/><g s:x=\"2\" s:y=\"20\" s:pid=\"B\"/><g s:x=\"25\" s:y=\"12.5\" s:pid=\"Y\"/></g><g s:type=\"eq\" transform=\"translate(146.33333333333334,331)\" s:width=\"25\" s:height=\"25\" id=\"cell_$procmux$4_CMP0\"><s:alias val=\"$eq\"/><s:alias val=\"$eqx\"/><circle r=\"12.5\" cx=\"12.5\" cy=\"12.5\" class=\"cell_$procmux$4_CMP0\"/><line x1=\"7.5\" x2=\"17.5\" y1=\"10\" y2=\"10\" class=\"cell_$procmux$4_CMP0\"/><line x1=\"7.5\" x2=\"17.5\" y1=\"15\" y2=\"15\" class=\"cell_$procmux$4_CMP0\"/><g s:x=\"2\" s:y=\"5\" s:pid=\"A\"/><g s:x=\"2\" s:y=\"20\" s:pid=\"B\"/><g s:x=\"25\" s:y=\"12.5\" s:pid=\"Y\"/></g><g s:type=\"eq\" transform=\"translate(146.33333333333334,391)\" s:width=\"25\" s:height=\"25\" id=\"cell_$procmux$5_CMP0\"><s:alias val=\"$eq\"/><s:alias val=\"$eqx\"/><circle r=\"12.5\" cx=\"12.5\" cy=\"12.5\" class=\"cell_$procmux$5_CMP0\"/><line x1=\"7.5\" x2=\"17.5\" y1=\"10\" y2=\"10\" class=\"cell_$procmux$5_CMP0\"/><line x1=\"7.5\" x2=\"17.5\" y1=\"15\" y2=\"15\" class=\"cell_$procmux$5_CMP0\"/><g s:x=\"2\" s:y=\"5\" s:pid=\"A\"/><g s:x=\"2\" s:y=\"20\" s:pid=\"B\"/><g s:x=\"25\" s:y=\"12.5\" s:pid=\"Y\"/></g><g s:type=\"not\" transform=\"translate(145,496)\" s:width=\"30\" s:height=\"20\" id=\"cell_$procmux$6_CMP0\"><s:alias val=\"$_NOT_\"/><s:alias val=\"$not\"/><s:alias val=\"$logic_not\"/><path d=\"M0,0 L0,20 L20,10 Z\" class=\"cell_$procmux$6_CMP0\"/><circle cx=\"24\" cy=\"10\" r=\"3\" class=\"cell_$procmux$6_CMP0\"/><g s:x=\"-1\" s:y=\"10\" s:pid=\"A\"/><g s:x=\"27\" s:y=\"10\" s:pid=\"Y\"/></g><g s:type=\"outputExt\" transform=\"translate(408.5,67)\" s:width=\"30\" s:height=\"20\" id=\"cell_out\"><text x=\"15\" y=\"-4\" class=\"nodelabel cell_out\" s:attribute=\"ref\">out</text><s:alias val=\"$_outputExt_\"/><path d=\"M30,0 L30,20 L15,20 L0,10 L15,0 Z\" class=\"cell_out\"/><g s:x=\"0\" s:y=\"10\" s:pid=\"A\"/></g><g s:type=\"inputExt\" transform=\"translate(78,22)\" s:width=\"30\" s:height=\"20\" id=\"cell_i3\"><text x=\"15\" y=\"-4\" class=\"nodelabel cell_i3\" s:attribute=\"ref\">i3</text><s:alias val=\"$_inputExt_\"/><path d=\"M0,0 L0,20 L15,20 L30,10 L15,0 Z\" class=\"cell_i3\"/><g s:x=\"30\" s:y=\"10\" s:pid=\"Y\"/></g><g s:type=\"inputExt\" transform=\"translate(78,87)\" s:width=\"30\" s:height=\"20\" id=\"cell_i2\"><text x=\"15\" y=\"-4\" class=\"nodelabel cell_i2\" s:attribute=\"ref\">i2</text><s:alias val=\"$_inputExt_\"/><path d=\"M0,0 L0,20 L15,20 L30,10 L15,0 Z\" class=\"cell_i2\"/><g s:x=\"30\" s:y=\"10\" s:pid=\"Y\"/></g><g s:type=\"inputExt\" transform=\"translate(78,152)\" s:width=\"30\" s:height=\"20\" id=\"cell_i1\"><text x=\"15\" y=\"-4\" class=\"nodelabel cell_i1\" s:attribute=\"ref\">i1</text><s:alias val=\"$_inputExt_\"/><path d=\"M0,0 L0,20 L15,20 L30,10 L15,0 Z\" class=\"cell_i1\"/><g s:x=\"30\" s:y=\"10\" s:pid=\"Y\"/></g><g s:type=\"inputExt\" transform=\"translate(78,217)\" s:width=\"30\" s:height=\"20\" id=\"cell_i0\"><text x=\"15\" y=\"-4\" class=\"nodelabel cell_i0\" s:attribute=\"ref\">i0</text><s:alias val=\"$_inputExt_\"/><path d=\"M0,0 L0,20 L15,20 L30,10 L15,0 Z\" class=\"cell_i0\"/><g s:x=\"30\" s:y=\"10\" s:pid=\"Y\"/></g><g s:type=\"inputExt\" transform=\"translate(12,266)\" s:width=\"30\" s:height=\"20\" id=\"cell_sel\"><text x=\"15\" y=\"-4\" class=\"nodelabel cell_sel\" s:attribute=\"ref\">sel</text><s:alias val=\"$_inputExt_\"/><path d=\"M0,0 L0,20 L15,20 L30,10 L15,0 Z\" class=\"cell_sel\"/><g s:x=\"30\" s:y=\"10\" s:pid=\"Y\"/></g><g s:type=\"constant\" transform=\"translate(12,201)\" s:width=\"30\" s:height=\"20\" id=\"cell_11\"><text x=\"15\" y=\"-4\" class=\"nodelabel cell_11\" s:attribute=\"ref\">11</text><s:alias val=\"$_constant_\"/><rect width=\"30\" height=\"20\" class=\"cell_11\"/><g s:x=\"31\" s:y=\"10\" s:pid=\"Y\"/></g><g s:type=\"constant\" transform=\"translate(12,346)\" s:width=\"30\" s:height=\"20\" id=\"cell_10\"><text x=\"15\" y=\"-4\" class=\"nodelabel cell_10\" s:attribute=\"ref\">10</text><s:alias val=\"$_constant_\"/><rect width=\"30\" height=\"20\" class=\"cell_10\"/><g s:x=\"31\" s:y=\"10\" s:pid=\"Y\"/></g><g s:type=\"constant\" transform=\"translate(78,447)\" s:width=\"30\" s:height=\"20\" id=\"cell_1\"><text x=\"15\" y=\"-4\" class=\"nodelabel cell_1\" s:attribute=\"ref\">1</text><s:alias val=\"$_constant_\"/><rect width=\"30\" height=\"20\" class=\"cell_1\"/><g s:x=\"31\" s:y=\"10\" s:pid=\"Y\"/></g><g s:type=\"join\" transform=\"translate(229,66.5)\" s:width=\"4\" s:height=\"40\" id=\"cell_$join$,4,5,6,7,8,9,10,11,\"><rect width=\"5\" height=\"80\" class=\"splitjoinBody\" s:generic=\"body\"/><s:alias val=\"$_join_\"/><g s:x=\"5\" s:y=\"20\" s:pid=\"out\"/><g transform=\"translate(0,10)\" s:x=\"0\" s:y=\"10\" s:pid=\"in0\"><text x=\"-3\" y=\"-4\" class=\"inputPortLabel\">0:1</text></g><g transform=\"translate(0,30)\" s:x=\"0\" s:y=\"10\" s:pid=\"in0\"><text x=\"-3\" y=\"-4\" class=\"inputPortLabel\">2:3</text></g><g transform=\"translate(0,50)\" s:x=\"0\" s:y=\"10\" s:pid=\"in0\"><text x=\"-3\" y=\"-4\" class=\"inputPortLabel\">4:5</text></g><g transform=\"translate(0,70)\" s:x=\"0\" s:y=\"10\" s:pid=\"in0\"><text x=\"-3\" y=\"-4\" class=\"inputPortLabel\">6:7</text></g></g><g s:type=\"join\" transform=\"translate(224.75,313)\" s:width=\"4\" s:height=\"40\" id=\"cell_$join$,14,15,16,17,\"><rect width=\"5\" height=\"80\" class=\"splitjoinBody\" s:generic=\"body\"/><s:alias val=\"$_join_\"/><g s:x=\"5\" s:y=\"20\" s:pid=\"out\"/><g transform=\"translate(0,10)\" s:x=\"0\" s:y=\"10\" s:pid=\"in0\"><text x=\"-3\" y=\"-4\" class=\"inputPortLabel\">0</text></g><g transform=\"translate(0,30)\" s:x=\"0\" s:y=\"10\" s:pid=\"in0\"><text x=\"-3\" y=\"-4\" class=\"inputPortLabel\">1</text></g><g transform=\"translate(0,50)\" s:x=\"0\" s:y=\"10\" s:pid=\"in0\"><text x=\"-3\" y=\"-4\" class=\"inputPortLabel\">2</text></g><g transform=\"translate(0,70)\" s:x=\"0\" s:y=\"10\" s:pid=\"in0\"><text x=\"-3\" y=\"-4\" class=\"inputPortLabel\">3</text></g></g><line x1=\"235\" x2=\"309\" y1=\"87\" y2=\"87\" class=\"net_4,5,6,7,8,9,10,11 width_8\" style=\"stroke-width: 2\"/><line x1=\"230.75\" x2=\"322\" y1=\"333.5\" y2=\"333.5\" class=\"net_14,15,16,17 width_4\" style=\"stroke-width: 2\"/><line x1=\"322\" x2=\"322\" y1=\"333.5\" y2=\"95\" class=\"net_14,15,16,17 width_4\" style=\"stroke-width: 2\"/><line x1=\"42\" x2=\"148.33333333333334\" y1=\"276\" y2=\"276\" class=\"net_12,13 width_2\" style=\"stroke-width: 2\"/><line x1=\"42\" x2=\"53\" y1=\"276\" y2=\"276\" class=\"net_12,13 width_2\" style=\"stroke-width: 2\"/><line x1=\"53\" x2=\"53\" y1=\"276\" y2=\"336\" class=\"net_12,13 width_2\" style=\"stroke-width: 2\"/><circle cx=\"53\" cy=\"276\" r=\"3\" style=\"fill:#000\" class=\"net_12,13 width_2\"/><circle cx=\"53\" cy=\"336\" r=\"3\" style=\"fill:#000\" class=\"net_12,13 width_2\"/><line x1=\"53\" x2=\"148.33333333333334\" y1=\"336\" y2=\"336\" class=\"net_12,13 width_2\" style=\"stroke-width: 2\"/><line x1=\"42\" x2=\"53\" y1=\"276\" y2=\"276\" class=\"net_12,13 width_2\" style=\"stroke-width: 2\"/><line x1=\"53\" x2=\"53\" y1=\"276\" y2=\"396\" class=\"net_12,13 width_2\" style=\"stroke-width: 2\"/><circle cx=\"53\" cy=\"396\" r=\"3\" style=\"fill:#000\" class=\"net_12,13 width_2\"/><line x1=\"53\" x2=\"148.33333333333334\" y1=\"396\" y2=\"396\" class=\"net_12,13 width_2\" style=\"stroke-width: 2\"/><line x1=\"42\" x2=\"53\" y1=\"276\" y2=\"276\" class=\"net_12,13 width_2\" style=\"stroke-width: 2\"/><line x1=\"53\" x2=\"53\" y1=\"276\" y2=\"506\" class=\"net_12,13 width_2\" style=\"stroke-width: 2\"/><line x1=\"53\" x2=\"144\" y1=\"506\" y2=\"506\" class=\"net_12,13 width_2\" style=\"stroke-width: 2\"/><line x1=\"43\" x2=\"63\" y1=\"211\" y2=\"211\" class=\"net_18,19 width_2\" style=\"stroke-width: 2\"/><line x1=\"63\" x2=\"63\" y1=\"211\" y2=\"296\" class=\"net_18,19 width_2\" style=\"stroke-width: 2\"/><line x1=\"63\" x2=\"119\" y1=\"296\" y2=\"296\" class=\"net_18,19 width_2\" style=\"stroke-width: 2\"/><line x1=\"119\" x2=\"119\" y1=\"296\" y2=\"291\" class=\"net_18,19 width_2\" style=\"stroke-width: 2\"/><line x1=\"119\" x2=\"148.33333333333334\" y1=\"291\" y2=\"291\" class=\"net_18,19 width_2\" style=\"stroke-width: 2\"/><line x1=\"43\" x2=\"119\" y1=\"356\" y2=\"356\" class=\"net_20,21 width_2\" style=\"stroke-width: 2\"/><line x1=\"119\" x2=\"119\" y1=\"356\" y2=\"351\" class=\"net_20,21 width_2\" style=\"stroke-width: 2\"/><line x1=\"119\" x2=\"148.33333333333334\" y1=\"351\" y2=\"351\" class=\"net_20,21 width_2\" style=\"stroke-width: 2\"/><line x1=\"109\" x2=\"119\" y1=\"457\" y2=\"457\" class=\"net_22 width_1\" style=\"stroke-width: 1\"/><line x1=\"119\" x2=\"119\" y1=\"457\" y2=\"411\" class=\"net_22 width_1\" style=\"stroke-width: 1\"/><line x1=\"119\" x2=\"148.33333333333334\" y1=\"411\" y2=\"411\" class=\"net_22 width_1\" style=\"stroke-width: 1\"/><line x1=\"334.5\" x2=\"408.5\" y1=\"77\" y2=\"77\" class=\"net_2,3 width_2\" style=\"stroke-width: 2\"/><line x1=\"108\" x2=\"185\" y1=\"32\" y2=\"32\" class=\"net_4,5 width_2\" style=\"stroke-width: 2\"/><line x1=\"185\" x2=\"185\" y1=\"32\" y2=\"77\" class=\"net_4,5 width_2\" style=\"stroke-width: 2\"/><line x1=\"185\" x2=\"229\" y1=\"77\" y2=\"77\" class=\"net_4,5 width_2\" style=\"stroke-width: 2\"/><line x1=\"108\" x2=\"229\" y1=\"97\" y2=\"97\" class=\"net_6,7 width_2\" style=\"stroke-width: 2\"/><line x1=\"108\" x2=\"185\" y1=\"162\" y2=\"162\" class=\"net_8,9 width_2\" style=\"stroke-width: 2\"/><line x1=\"185\" x2=\"185\" y1=\"162\" y2=\"117\" class=\"net_8,9 width_2\" style=\"stroke-width: 2\"/><line x1=\"185\" x2=\"229\" y1=\"117\" y2=\"117\" class=\"net_8,9 width_2\" style=\"stroke-width: 2\"/><line x1=\"108\" x2=\"229.5\" y1=\"227\" y2=\"227\" class=\"net_10,11 width_2\" style=\"stroke-width: 2\"/><line x1=\"229.5\" x2=\"229.5\" y1=\"227\" y2=\"137.5\" class=\"net_10,11 width_2\" style=\"stroke-width: 2\"/><line x1=\"171.33333333333334\" x2=\"185\" y1=\"283.5\" y2=\"283.5\" class=\"net_14 width_1\" style=\"stroke-width: 1\"/><line x1=\"185\" x2=\"185\" y1=\"283.5\" y2=\"323.5\" class=\"net_14 width_1\" style=\"stroke-width: 1\"/><line x1=\"185\" x2=\"224.75\" y1=\"323.5\" y2=\"323.5\" class=\"net_14 width_1\" style=\"stroke-width: 1\"/><line x1=\"171.33333333333334\" x2=\"224.75\" y1=\"343.5\" y2=\"343.5\" class=\"net_15 width_1\" style=\"stroke-width: 1\"/><line x1=\"171.33333333333334\" x2=\"185\" y1=\"403.5\" y2=\"403.5\" class=\"net_16 width_1\" style=\"stroke-width: 1\"/><line x1=\"185\" x2=\"185\" y1=\"403.5\" y2=\"363.5\" class=\"net_16 width_1\" style=\"stroke-width: 1\"/><line x1=\"185\" x2=\"224.75\" y1=\"363.5\" y2=\"363.5\" class=\"net_16 width_1\" style=\"stroke-width: 1\"/><line x1=\"172\" x2=\"225.25\" y1=\"506\" y2=\"506\" class=\"net_17 width_1\" style=\"stroke-width: 1\"/><line x1=\"225.25\" x2=\"225.25\" y1=\"506\" y2=\"384\" class=\"net_17 width_1\" style=\"stroke-width: 1\"/><rect x=\"271\" y=\"82\" width=\"16\" height=\"9\" class=\"net_4,5,6,7,8,9,10,11 width_8 busLabel_8\" style=\"fill: white; stroke: none\"/><text x=\"270\" y=\"90\" class=\"net_4,5,6,7,8,9,10,11 width_8 busLabel_8\">/8/</text><rect x=\"271\" y=\"328.5\" width=\"16\" height=\"9\" class=\"net_14,15,16,17 width_4 busLabel_4\" style=\"fill: white; stroke: none\"/><text x=\"270\" y=\"336.5\" class=\"net_14,15,16,17 width_4 busLabel_4\">/4/</text><rect x=\"92.5\" y=\"501\" width=\"16\" height=\"9\" class=\"net_12,13 width_2 busLabel_2\" style=\"fill: white; stroke: none\"/><text x=\"91.5\" y=\"509\" class=\"net_12,13 width_2 busLabel_2\">/2/</text><rect x=\"92.5\" y=\"501\" width=\"16\" height=\"9\" class=\"net_12,13 width_2 busLabel_2\" style=\"fill: white; stroke: none\"/><text x=\"91.5\" y=\"509\" class=\"net_12,13 width_2 busLabel_2\">/2/</text><rect x=\"92.5\" y=\"501\" width=\"16\" height=\"9\" class=\"net_12,13 width_2 busLabel_2\" style=\"fill: white; stroke: none\"/><text x=\"91.5\" y=\"509\" class=\"net_12,13 width_2 busLabel_2\">/2/</text><rect x=\"92.5\" y=\"501\" width=\"16\" height=\"9\" class=\"net_12,13 width_2 busLabel_2\" style=\"fill: white; stroke: none\"/><text x=\"91.5\" y=\"509\" class=\"net_12,13 width_2 busLabel_2\">/2/</text><rect x=\"92.5\" y=\"291\" width=\"16\" height=\"9\" class=\"net_18,19 width_2 busLabel_2\" style=\"fill: white; stroke: none\"/><text x=\"91.5\" y=\"299\" class=\"net_18,19 width_2 busLabel_2\">/2/</text><rect x=\"92.5\" y=\"351\" width=\"16\" height=\"9\" class=\"net_20,21 width_2 busLabel_2\" style=\"fill: white; stroke: none\"/><text x=\"91.5\" y=\"359\" class=\"net_20,21 width_2 busLabel_2\">/2/</text><rect x=\"370.5\" y=\"72\" width=\"16\" height=\"9\" class=\"net_2,3 width_2 busLabel_2\" style=\"fill: white; stroke: none\"/><text x=\"369.5\" y=\"80\" class=\"net_2,3 width_2 busLabel_2\">/2/</text><rect x=\"158.5\" y=\"27\" width=\"16\" height=\"9\" class=\"net_4,5 width_2 busLabel_2\" style=\"fill: white; stroke: none\"/><text x=\"157.5\" y=\"35\" class=\"net_4,5 width_2 busLabel_2\">/2/</text><rect x=\"158.5\" y=\"92\" width=\"16\" height=\"9\" class=\"net_6,7 width_2 busLabel_2\" style=\"fill: white; stroke: none\"/><text x=\"157.5\" y=\"100\" class=\"net_6,7 width_2 busLabel_2\">/2/</text><rect x=\"158.5\" y=\"157\" width=\"16\" height=\"9\" class=\"net_8,9 width_2 busLabel_2\" style=\"fill: white; stroke: none\"/><text x=\"157.5\" y=\"165\" class=\"net_8,9 width_2 busLabel_2\">/2/</text><rect x=\"158.5\" y=\"222\" width=\"16\" height=\"9\" class=\"net_10,11 width_2 busLabel_2\" style=\"fill: white; stroke: none\"/><text x=\"157.5\" y=\"230\" class=\"net_10,11 width_2 busLabel_2\">/2/</text></svg>"
          },
          "metadata": {}
        }
      ]
    },
    {
      "cell_type": "code",
      "source": [
        "%%verilog\n",
        "\n",
        "//Design the 4-to-1 multiplexer by using b) case statements\n",
        "module mux4to1(out,i3,i2,i1,i0,sel);\n",
        " output reg [1:0] out;\n",
        " input [1:0] i3,i2,i1,i0;\n",
        " input [1:0] sel;\n",
        "\n",
        " always @(*) begin\n",
        "  case(sel)\n",
        "   2'b00: out = i0;\n",
        "   2'b01: out = i1;\n",
        "   2'b10: out = i2;\n",
        "   2'b11: out = i3;\n",
        "   default: out = 2'bxx;\n",
        "  endcase\n",
        " end\n",
        "\n",
        "endmodule\n",
        "\n",
        "module mux4to1_tb;\n",
        " wire [1:0] out;\n",
        " reg [1:0] i3,i2,i1,i0;\n",
        " reg [1:0] sel;\n",
        "\n",
        " mux4to1 dut(out,i3,i2,i1,i0,sel);\n",
        "\n",
        " initial begin\n",
        "  $dumpfile(\"mux4to1.vcd\");\n",
        "  $dumpvars(0,mux4to1_tb);\n",
        "\n",
        "  #0 i0=2'b00; i1=2'b01; i2=2'b10; i3=2'b11;\n",
        "  #10 sel=2'b00;\n",
        "  #10 sel=2'b01;\n",
        "  #10 sel=2'b10;\n",
        "  #10 sel=2'b11;\n",
        "  #10 sel=2'b00;\n",
        "  #10 $finish;\n",
        " end\n",
        "\n",
        "endmodule\n",
        "\n"
      ],
      "metadata": {
        "colab": {
          "base_uri": "https://localhost:8080/"
        },
        "id": "aX3Mt6t6R8BO",
        "outputId": "6438e588-2706-478d-afef-49d566b6c1d9"
      },
      "execution_count": null,
      "outputs": [
        {
          "output_type": "stream",
          "name": "stdout",
          "text": [
            "VCD info: dumpfile mux4to1.vcd opened for output.\n",
            "\n"
          ]
        }
      ]
    },
    {
      "cell_type": "code",
      "source": [
        "%%print_verilog\n",
        "\n",
        "//Design the 4-to-1 multiplexer by using a) if and else statements\n",
        "module mux4to1a(out,i3,i2,i1,i0,sel);\n",
        " output reg [1:0] out;\n",
        " input [1:0] i3,i2,i1,i0;\n",
        " input [1:0] sel;\n",
        "\n",
        " always @(*) begin\n",
        "  if (sel==2'b00) out = i0;\n",
        "  else if (sel==2'b01) out = i1;\n",
        "  else if (sel==2'b10) out = i2;\n",
        "  else if (sel==2'b11) out = i3;\n",
        "  else out = 2'bxx;\n",
        " end\n",
        "\n",
        "endmodule"
      ],
      "metadata": {
        "colab": {
          "base_uri": "https://localhost:8080/",
          "height": 388
        },
        "id": "Afg8fWUwS73v",
        "outputId": "85276dbf-8119-48bd-e4a4-e4401aff1432"
      },
      "execution_count": null,
      "outputs": [
        {
          "output_type": "display_data",
          "data": {
            "text/plain": [
              "<IPython.core.display.SVG object>"
            ],
            "image/svg+xml": "<svg xmlns=\"http://www.w3.org/2000/svg\" xmlns:xlink=\"http://www.w3.org/1999/xlink\" xmlns:s=\"https://github.com/nturley/netlistsvg\" width=\"732.5\" height=\"365.5\"><style>svg {\n  stroke:#000;\n  fill:none;\n}\ntext {\n  fill:#000;\n  stroke:none;\n  font-size:10px;\n  font-weight: bold;\n  font-family: &quot;Courier New&quot;, monospace;\n}\nline {\n    stroke-linecap: round;\n}\n.nodelabel {\n  text-anchor: middle;\n}\n.inputPortLabel {\n  text-anchor: end;\n}\n.splitjoinBody {\n  fill:#000;\n}</style><g s:type=\"eq\" transform=\"translate(400,250)\" s:width=\"25\" s:height=\"25\" id=\"cell_$eq$/content/code.v:10$3\"><s:alias val=\"$eq\"/><s:alias val=\"$eqx\"/><circle r=\"12.5\" cx=\"12.5\" cy=\"12.5\" class=\"cell_$eq$/content/code.v:10$3\"/><line x1=\"7.5\" x2=\"17.5\" y1=\"10\" y2=\"10\" class=\"cell_$eq$/content/code.v:10$3\"/><line x1=\"7.5\" x2=\"17.5\" y1=\"15\" y2=\"15\" class=\"cell_$eq$/content/code.v:10$3\"/><g s:x=\"2\" s:y=\"5\" s:pid=\"A\"/><g s:x=\"2\" s:y=\"20\" s:pid=\"B\"/><g s:x=\"25\" s:y=\"12.5\" s:pid=\"Y\"/></g><g s:type=\"eq\" transform=\"translate(274,166.5)\" s:width=\"25\" s:height=\"25\" id=\"cell_$eq$/content/code.v:11$4\"><s:alias val=\"$eq\"/><s:alias val=\"$eqx\"/><circle r=\"12.5\" cx=\"12.5\" cy=\"12.5\" class=\"cell_$eq$/content/code.v:11$4\"/><line x1=\"7.5\" x2=\"17.5\" y1=\"10\" y2=\"10\" class=\"cell_$eq$/content/code.v:11$4\"/><line x1=\"7.5\" x2=\"17.5\" y1=\"15\" y2=\"15\" class=\"cell_$eq$/content/code.v:11$4\"/><g s:x=\"2\" s:y=\"5\" s:pid=\"A\"/><g s:x=\"2\" s:y=\"20\" s:pid=\"B\"/><g s:x=\"25\" s:y=\"12.5\" s:pid=\"Y\"/></g><g s:type=\"eq\" transform=\"translate(145,83)\" s:width=\"25\" s:height=\"25\" id=\"cell_$eq$/content/code.v:12$5\"><s:alias val=\"$eq\"/><s:alias val=\"$eqx\"/><circle r=\"12.5\" cx=\"12.5\" cy=\"12.5\" class=\"cell_$eq$/content/code.v:12$5\"/><line x1=\"7.5\" x2=\"17.5\" y1=\"10\" y2=\"10\" class=\"cell_$eq$/content/code.v:12$5\"/><line x1=\"7.5\" x2=\"17.5\" y1=\"15\" y2=\"15\" class=\"cell_$eq$/content/code.v:12$5\"/><g s:x=\"2\" s:y=\"5\" s:pid=\"A\"/><g s:x=\"2\" s:y=\"20\" s:pid=\"B\"/><g s:x=\"25\" s:y=\"12.5\" s:pid=\"Y\"/></g><g s:type=\"not\" transform=\"translate(526,333.5)\" s:width=\"30\" s:height=\"20\" id=\"cell_$eq$/content/code.v:9$2\"><s:alias val=\"$_NOT_\"/><s:alias val=\"$not\"/><s:alias val=\"$logic_not\"/><path d=\"M0,0 L0,20 L20,10 Z\" class=\"cell_$eq$/content/code.v:9$2\"/><circle cx=\"24\" cy=\"10\" r=\"3\" class=\"cell_$eq$/content/code.v:9$2\"/><g s:x=\"-1\" s:y=\"10\" s:pid=\"A\"/><g s:x=\"27\" s:y=\"10\" s:pid=\"Y\"/></g><g s:type=\"mux-bus\" transform=\"translate(336.6666666666667,22)\" s:width=\"24\" s:height=\"40\" id=\"cell_$procmux$19\"><s:alias val=\"$pmux-bus\"/><s:alias val=\"$mux-bus\"/><s:alias val=\"$_MUX_-bus\"/><path d=\"M0,0 L20,10 L20,30 L0,40 Z\" class=\"cell_$procmux$19\"/><path d=\"M4,2 L4,0 L22,9 L22,31 L4,40 L4,38\" class=\"cell_$procmux$19\"/><path d=\"M8,2 L8,0 L24,8 L24,32 L8,40 L8,38\" class=\"cell_$procmux$19\"/><text x=\"5\" y=\"32\" class=\"nodelabel cell_$procmux$19\" s:attribute=\"\">1</text><text x=\"5\" y=\"13\" class=\"nodelabel cell_$procmux$19\" s:attribute=\"\">0</text><g s:x=\"-1\" s:y=\"10\" s:pid=\"A\"/><g s:x=\"-1\" s:y=\"30\" s:pid=\"B\"/><g s:x=\"12\" s:y=\"38\" s:pid=\"S\"/><g s:x=\"24.5\" s:y=\"20\" s:pid=\"Y\"/></g><g s:type=\"mux-bus\" transform=\"translate(462.3333333333333,32)\" s:width=\"24\" s:height=\"40\" id=\"cell_$procmux$28\"><s:alias val=\"$pmux-bus\"/><s:alias val=\"$mux-bus\"/><s:alias val=\"$_MUX_-bus\"/><path d=\"M0,0 L20,10 L20,30 L0,40 Z\" class=\"cell_$procmux$28\"/><path d=\"M4,2 L4,0 L22,9 L22,31 L4,40 L4,38\" class=\"cell_$procmux$28\"/><path d=\"M8,2 L8,0 L24,8 L24,32 L8,40 L8,38\" class=\"cell_$procmux$28\"/><text x=\"5\" y=\"32\" class=\"nodelabel cell_$procmux$28\" s:attribute=\"\">1</text><text x=\"5\" y=\"13\" class=\"nodelabel cell_$procmux$28\" s:attribute=\"\">0</text><g s:x=\"-1\" s:y=\"10\" s:pid=\"A\"/><g s:x=\"-1\" s:y=\"30\" s:pid=\"B\"/><g s:x=\"12\" s:y=\"38\" s:pid=\"S\"/><g s:x=\"24.5\" s:y=\"20\" s:pid=\"Y\"/></g><g s:type=\"mux-bus\" transform=\"translate(592,42)\" s:width=\"24\" s:height=\"40\" id=\"cell_$procmux$34\"><s:alias val=\"$pmux-bus\"/><s:alias val=\"$mux-bus\"/><s:alias val=\"$_MUX_-bus\"/><path d=\"M0,0 L20,10 L20,30 L0,40 Z\" class=\"cell_$procmux$34\"/><path d=\"M4,2 L4,0 L22,9 L22,31 L4,40 L4,38\" class=\"cell_$procmux$34\"/><path d=\"M8,2 L8,0 L24,8 L24,32 L8,40 L8,38\" class=\"cell_$procmux$34\"/><text x=\"5\" y=\"32\" class=\"nodelabel cell_$procmux$34\" s:attribute=\"\">1</text><text x=\"5\" y=\"13\" class=\"nodelabel cell_$procmux$34\" s:attribute=\"\">0</text><g s:x=\"-1\" s:y=\"10\" s:pid=\"A\"/><g s:x=\"-1\" s:y=\"30\" s:pid=\"B\"/><g s:x=\"12\" s:y=\"38\" s:pid=\"S\"/><g s:x=\"24.5\" s:y=\"20\" s:pid=\"Y\"/></g><g s:type=\"mux-bus\" transform=\"translate(212,12)\" s:width=\"24\" s:height=\"40\" id=\"cell_$procmux$7\"><s:alias val=\"$pmux-bus\"/><s:alias val=\"$mux-bus\"/><s:alias val=\"$_MUX_-bus\"/><path d=\"M0,0 L20,10 L20,30 L0,40 Z\" class=\"cell_$procmux$7\"/><path d=\"M4,2 L4,0 L22,9 L22,31 L4,40 L4,38\" class=\"cell_$procmux$7\"/><path d=\"M8,2 L8,0 L24,8 L24,32 L8,40 L8,38\" class=\"cell_$procmux$7\"/><text x=\"5\" y=\"32\" class=\"nodelabel cell_$procmux$7\" s:attribute=\"\">1</text><text x=\"5\" y=\"13\" class=\"nodelabel cell_$procmux$7\" s:attribute=\"\">0</text><g s:x=\"-1\" s:y=\"10\" s:pid=\"A\"/><g s:x=\"-1\" s:y=\"30\" s:pid=\"B\"/><g s:x=\"12\" s:y=\"38\" s:pid=\"S\"/><g s:x=\"24.5\" s:y=\"20\" s:pid=\"Y\"/></g><g s:type=\"outputExt\" transform=\"translate(690.5,52)\" s:width=\"30\" s:height=\"20\" id=\"cell_out\"><text x=\"15\" y=\"-4\" class=\"nodelabel cell_out\" s:attribute=\"ref\">out</text><s:alias val=\"$_outputExt_\"/><path d=\"M30,0 L30,20 L15,20 L0,10 L15,0 Z\" class=\"cell_out\"/><g s:x=\"0\" s:y=\"10\" s:pid=\"A\"/></g><g s:type=\"inputExt\" transform=\"translate(78,32)\" s:width=\"30\" s:height=\"20\" id=\"cell_i3\"><text x=\"15\" y=\"-4\" class=\"nodelabel cell_i3\" s:attribute=\"ref\">i3</text><s:alias val=\"$_inputExt_\"/><path d=\"M0,0 L0,20 L15,20 L30,10 L15,0 Z\" class=\"cell_i3\"/><g s:x=\"30\" s:y=\"10\" s:pid=\"Y\"/></g><g s:type=\"inputExt\" transform=\"translate(209,115.5)\" s:width=\"30\" s:height=\"20\" id=\"cell_i2\"><text x=\"15\" y=\"-4\" class=\"nodelabel cell_i2\" s:attribute=\"ref\">i2</text><s:alias val=\"$_inputExt_\"/><path d=\"M0,0 L0,20 L15,20 L30,10 L15,0 Z\" class=\"cell_i2\"/><g s:x=\"30\" s:y=\"10\" s:pid=\"Y\"/></g><g s:type=\"inputExt\" transform=\"translate(334,199)\" s:width=\"30\" s:height=\"20\" id=\"cell_i1\"><text x=\"15\" y=\"-4\" class=\"nodelabel cell_i1\" s:attribute=\"ref\">i1</text><s:alias val=\"$_inputExt_\"/><path d=\"M0,0 L0,20 L15,20 L30,10 L15,0 Z\" class=\"cell_i1\"/><g s:x=\"30\" s:y=\"10\" s:pid=\"Y\"/></g><g s:type=\"inputExt\" transform=\"translate(460,282.5)\" s:width=\"30\" s:height=\"20\" id=\"cell_i0\"><text x=\"15\" y=\"-4\" class=\"nodelabel cell_i0\" s:attribute=\"ref\">i0</text><s:alias val=\"$_inputExt_\"/><path d=\"M0,0 L0,20 L15,20 L30,10 L15,0 Z\" class=\"cell_i0\"/><g s:x=\"30\" s:y=\"10\" s:pid=\"Y\"/></g><g s:type=\"inputExt\" transform=\"translate(12,245)\" s:width=\"30\" s:height=\"20\" id=\"cell_sel\"><text x=\"15\" y=\"-4\" class=\"nodelabel cell_sel\" s:attribute=\"ref\">sel</text><s:alias val=\"$_inputExt_\"/><path d=\"M0,0 L0,20 L15,20 L30,10 L15,0 Z\" class=\"cell_sel\"/><g s:x=\"30\" s:y=\"10\" s:pid=\"Y\"/></g><g s:type=\"constant\" transform=\"translate(334,276)\" s:width=\"30\" s:height=\"20\" id=\"cell_1\"><text x=\"15\" y=\"-4\" class=\"nodelabel cell_1\" s:attribute=\"ref\">1</text><s:alias val=\"$_constant_\"/><rect width=\"30\" height=\"20\" class=\"cell_1\"/><g s:x=\"31\" s:y=\"10\" s:pid=\"Y\"/></g><g s:type=\"constant\" transform=\"translate(143,222.5)\" s:width=\"30\" s:height=\"20\" id=\"cell_10\"><text x=\"15\" y=\"-4\" class=\"nodelabel cell_10\" s:attribute=\"ref\">10</text><s:alias val=\"$_constant_\"/><rect width=\"30\" height=\"20\" class=\"cell_10\"/><g s:x=\"31\" s:y=\"10\" s:pid=\"Y\"/></g><g s:type=\"constant\" transform=\"translate(12,93)\" s:width=\"30\" s:height=\"20\" id=\"cell_11\"><text x=\"15\" y=\"-4\" class=\"nodelabel cell_11\" s:attribute=\"ref\">11</text><s:alias val=\"$_constant_\"/><rect width=\"30\" height=\"20\" class=\"cell_11\"/><g s:x=\"31\" s:y=\"10\" s:pid=\"Y\"/></g><line x1=\"42\" x2=\"402\" y1=\"255\" y2=\"255\" class=\"net_12,13 width_2\" style=\"stroke-width: 2\"/><line x1=\"42\" x2=\"118\" y1=\"255\" y2=\"255\" class=\"net_12,13 width_2\" style=\"stroke-width: 2\"/><line x1=\"118\" x2=\"118\" y1=\"255\" y2=\"171.5\" class=\"net_12,13 width_2\" style=\"stroke-width: 2\"/><circle cx=\"118\" cy=\"255\" r=\"3\" style=\"fill:#000\" class=\"net_12,13 width_2\"/><line x1=\"118\" x2=\"276\" y1=\"171.5\" y2=\"171.5\" class=\"net_12,13 width_2\" style=\"stroke-width: 2\"/><line x1=\"42\" x2=\"53\" y1=\"255\" y2=\"255\" class=\"net_12,13 width_2\" style=\"stroke-width: 2\"/><line x1=\"53\" x2=\"53\" y1=\"255\" y2=\"123\" class=\"net_12,13 width_2\" style=\"stroke-width: 2\"/><line x1=\"53\" x2=\"118\" y1=\"123\" y2=\"123\" class=\"net_12,13 width_2\" style=\"stroke-width: 2\"/><line x1=\"118\" x2=\"118\" y1=\"123\" y2=\"88\" class=\"net_12,13 width_2\" style=\"stroke-width: 2\"/><circle cx=\"53\" cy=\"255\" r=\"3\" style=\"fill:#000\" class=\"net_12,13 width_2\"/><line x1=\"118\" x2=\"147\" y1=\"88\" y2=\"88\" class=\"net_12,13 width_2\" style=\"stroke-width: 2\"/><line x1=\"42\" x2=\"184\" y1=\"255\" y2=\"255\" class=\"net_12,13 width_2\" style=\"stroke-width: 2\"/><line x1=\"184\" x2=\"184\" y1=\"255\" y2=\"343.5\" class=\"net_12,13 width_2\" style=\"stroke-width: 2\"/><circle cx=\"184\" cy=\"255\" r=\"3\" style=\"fill:#000\" class=\"net_12,13 width_2\"/><line x1=\"184\" x2=\"525\" y1=\"343.5\" y2=\"343.5\" class=\"net_12,13 width_2\" style=\"stroke-width: 2\"/><line x1=\"365\" x2=\"375\" y1=\"286\" y2=\"286\" class=\"net_24 width_1\" style=\"stroke-width: 1\"/><line x1=\"375\" x2=\"375\" y1=\"286\" y2=\"270\" class=\"net_24 width_1\" style=\"stroke-width: 1\"/><line x1=\"375\" x2=\"402\" y1=\"270\" y2=\"270\" class=\"net_24 width_1\" style=\"stroke-width: 1\"/><line x1=\"174\" x2=\"249\" y1=\"232.5\" y2=\"232.5\" class=\"net_25,26 width_2\" style=\"stroke-width: 2\"/><line x1=\"249\" x2=\"249\" y1=\"232.5\" y2=\"186.5\" class=\"net_25,26 width_2\" style=\"stroke-width: 2\"/><line x1=\"249\" x2=\"276\" y1=\"186.5\" y2=\"186.5\" class=\"net_25,26 width_2\" style=\"stroke-width: 2\"/><line x1=\"43\" x2=\"147\" y1=\"103\" y2=\"103\" class=\"net_27,28 width_2\" style=\"stroke-width: 2\"/><line x1=\"236.5\" x2=\"335.6666666666667\" y1=\"32\" y2=\"32\" class=\"net_18,19 width_2\" style=\"stroke-width: 2\"/><line x1=\"239\" x2=\"309\" y1=\"125.5\" y2=\"125.5\" class=\"net_6,7 width_2\" style=\"stroke-width: 2\"/><line x1=\"309\" x2=\"309\" y1=\"125.5\" y2=\"52\" class=\"net_6,7 width_2\" style=\"stroke-width: 2\"/><line x1=\"309\" x2=\"335.6666666666667\" y1=\"52\" y2=\"52\" class=\"net_6,7 width_2\" style=\"stroke-width: 2\"/><line x1=\"299\" x2=\"348.6666666666667\" y1=\"179\" y2=\"179\" class=\"net_15 width_1\" style=\"stroke-width: 1\"/><line x1=\"348.6666666666667\" x2=\"348.6666666666667\" y1=\"179\" y2=\"60\" class=\"net_15 width_1\" style=\"stroke-width: 1\"/><line x1=\"361.1666666666667\" x2=\"461.3333333333333\" y1=\"42\" y2=\"42\" class=\"net_20,21 width_2\" style=\"stroke-width: 2\"/><line x1=\"364\" x2=\"435\" y1=\"209\" y2=\"209\" class=\"net_8,9 width_2\" style=\"stroke-width: 2\"/><line x1=\"435\" x2=\"435\" y1=\"209\" y2=\"62\" class=\"net_8,9 width_2\" style=\"stroke-width: 2\"/><line x1=\"435\" x2=\"461.3333333333333\" y1=\"62\" y2=\"62\" class=\"net_8,9 width_2\" style=\"stroke-width: 2\"/><line x1=\"425\" x2=\"474.3333333333333\" y1=\"262.5\" y2=\"262.5\" class=\"net_14 width_1\" style=\"stroke-width: 1\"/><line x1=\"474.3333333333333\" x2=\"474.3333333333333\" y1=\"262.5\" y2=\"70\" class=\"net_14 width_1\" style=\"stroke-width: 1\"/><line x1=\"486.8333333333333\" x2=\"591\" y1=\"52\" y2=\"52\" class=\"net_22,23 width_2\" style=\"stroke-width: 2\"/><line x1=\"490\" x2=\"566\" y1=\"292.5\" y2=\"292.5\" class=\"net_10,11 width_2\" style=\"stroke-width: 2\"/><line x1=\"566\" x2=\"566\" y1=\"292.5\" y2=\"72\" class=\"net_10,11 width_2\" style=\"stroke-width: 2\"/><line x1=\"566\" x2=\"591\" y1=\"72\" y2=\"72\" class=\"net_10,11 width_2\" style=\"stroke-width: 2\"/><line x1=\"553\" x2=\"604\" y1=\"343.5\" y2=\"343.5\" class=\"net_17 width_1\" style=\"stroke-width: 1\"/><line x1=\"604\" x2=\"604\" y1=\"343.5\" y2=\"80\" class=\"net_17 width_1\" style=\"stroke-width: 1\"/><line x1=\"108\" x2=\"211\" y1=\"42\" y2=\"42\" class=\"net_4,5 width_2\" style=\"stroke-width: 2\"/><line x1=\"170\" x2=\"224\" y1=\"95.5\" y2=\"95.5\" class=\"net_16 width_1\" style=\"stroke-width: 1\"/><line x1=\"224\" x2=\"224\" y1=\"95.5\" y2=\"50\" class=\"net_16 width_1\" style=\"stroke-width: 1\"/><line x1=\"616.5\" x2=\"690.5\" y1=\"62\" y2=\"62\" class=\"net_2,3 width_2\" style=\"stroke-width: 2\"/><rect x=\"285.5\" y=\"338.5\" width=\"16\" height=\"9\" class=\"net_12,13 width_2 busLabel_2\" style=\"fill: white; stroke: none\"/><text x=\"284.5\" y=\"346.5\" class=\"net_12,13 width_2 busLabel_2\">/2/</text><rect x=\"285.5\" y=\"338.5\" width=\"16\" height=\"9\" class=\"net_12,13 width_2 busLabel_2\" style=\"fill: white; stroke: none\"/><text x=\"284.5\" y=\"346.5\" class=\"net_12,13 width_2 busLabel_2\">/2/</text><rect x=\"285.5\" y=\"338.5\" width=\"16\" height=\"9\" class=\"net_12,13 width_2 busLabel_2\" style=\"fill: white; stroke: none\"/><text x=\"284.5\" y=\"346.5\" class=\"net_12,13 width_2 busLabel_2\">/2/</text><rect x=\"285.5\" y=\"338.5\" width=\"16\" height=\"9\" class=\"net_12,13 width_2 busLabel_2\" style=\"fill: white; stroke: none\"/><text x=\"284.5\" y=\"346.5\" class=\"net_12,13 width_2 busLabel_2\">/2/</text><rect x=\"223\" y=\"227.5\" width=\"16\" height=\"9\" class=\"net_25,26 width_2 busLabel_2\" style=\"fill: white; stroke: none\"/><text x=\"222\" y=\"235.5\" class=\"net_25,26 width_2 busLabel_2\">/2/</text><rect x=\"92\" y=\"98\" width=\"16\" height=\"9\" class=\"net_27,28 width_2 busLabel_2\" style=\"fill: white; stroke: none\"/><text x=\"91\" y=\"106\" class=\"net_27,28 width_2 busLabel_2\">/2/</text><rect x=\"285.5\" y=\"27\" width=\"16\" height=\"9\" class=\"net_18,19 width_2 busLabel_2\" style=\"fill: white; stroke: none\"/><text x=\"284.5\" y=\"35\" class=\"net_18,19 width_2 busLabel_2\">/2/</text><rect x=\"285.5\" y=\"120.5\" width=\"16\" height=\"9\" class=\"net_6,7 width_2 busLabel_2\" style=\"fill: white; stroke: none\"/><text x=\"284.5\" y=\"128.5\" class=\"net_6,7 width_2 busLabel_2\">/2/</text><rect x=\"411.5\" y=\"37\" width=\"16\" height=\"9\" class=\"net_20,21 width_2 busLabel_2\" style=\"fill: white; stroke: none\"/><text x=\"410.5\" y=\"45\" class=\"net_20,21 width_2 busLabel_2\">/2/</text><rect x=\"411.5\" y=\"204\" width=\"16\" height=\"9\" class=\"net_8,9 width_2 busLabel_2\" style=\"fill: white; stroke: none\"/><text x=\"410.5\" y=\"212\" class=\"net_8,9 width_2 busLabel_2\">/2/</text><rect x=\"539.5\" y=\"47\" width=\"16\" height=\"9\" class=\"net_22,23 width_2 busLabel_2\" style=\"fill: white; stroke: none\"/><text x=\"538.5\" y=\"55\" class=\"net_22,23 width_2 busLabel_2\">/2/</text><rect x=\"539.5\" y=\"287.5\" width=\"16\" height=\"9\" class=\"net_10,11 width_2 busLabel_2\" style=\"fill: white; stroke: none\"/><text x=\"538.5\" y=\"295.5\" class=\"net_10,11 width_2 busLabel_2\">/2/</text><rect x=\"157.5\" y=\"37\" width=\"16\" height=\"9\" class=\"net_4,5 width_2 busLabel_2\" style=\"fill: white; stroke: none\"/><text x=\"156.5\" y=\"45\" class=\"net_4,5 width_2 busLabel_2\">/2/</text><rect x=\"652.5\" y=\"57\" width=\"16\" height=\"9\" class=\"net_2,3 width_2 busLabel_2\" style=\"fill: white; stroke: none\"/><text x=\"651.5\" y=\"65\" class=\"net_2,3 width_2 busLabel_2\">/2/</text></svg>"
          },
          "metadata": {}
        }
      ]
    },
    {
      "cell_type": "code",
      "source": [
        "%%verilog\n",
        "\n",
        "//Design the 4-to-1 multiplexer by using a) if and else statements\n",
        "module mux4to1a(out,i3,i2,i1,i0,sel);\n",
        " output reg [1:0] out;\n",
        " input [1:0] i3,i2,i1,i0;\n",
        " input [1:0] sel;\n",
        "\n",
        " always @(*) begin\n",
        "  if (sel==2'b00) out = i0;\n",
        "  else if (sel==2'b01) out = i1;\n",
        "  else if (sel==2'b10) out = i2;\n",
        "  else if (sel==2'b11) out = i3;\n",
        "  else out = 2'bxx;\n",
        " end\n",
        "\n",
        "endmodule\n",
        "\n",
        "module mux4to1a_tb;\n",
        " wire [1:0] out;\n",
        " reg [1:0] i3,i2,i1,i0;\n",
        " reg [1:0] sel;\n",
        "\n",
        " mux4to1a dut(out,i3,i2,i1,i0,sel);\n",
        "\n",
        " initial begin\n",
        "  $dumpfile(\"mux4to1a.vcd\");\n",
        "  $dumpvars(0,mux4to1a_tb);\n",
        "\n",
        "  #0 i0=2'b00; i1=2'b01; i2=2'b10; i3=2'b11;\n",
        "  #10 sel=2'b00;\n",
        "  #10 sel=2'b01;\n",
        "  #10 sel=2'b10;\n",
        "  #10 sel=2'b11;\n",
        "  #10 sel=2'b00;\n",
        "  #10 $finish;\n",
        " end\n",
        "\n",
        "endmodule\n"
      ],
      "metadata": {
        "colab": {
          "base_uri": "https://localhost:8080/"
        },
        "id": "DI0FzdulSFcO",
        "outputId": "c95b4845-f31b-4c64-ce6c-5c000951c600"
      },
      "execution_count": 11,
      "outputs": [
        {
          "output_type": "stream",
          "name": "stdout",
          "text": [
            "VCD info: dumpfile mux4to1a.vcd opened for output.\n",
            "\n"
          ]
        }
      ]
    }
  ]
}