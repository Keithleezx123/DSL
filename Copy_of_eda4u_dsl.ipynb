{
  "nbformat": 4,
  "nbformat_minor": 0,
  "metadata": {
    "colab": {
      "provenance": [],
      "include_colab_link": true
    },
    "kernelspec": {
      "name": "python3",
      "display_name": "Python 3"
    },
    "language_info": {
      "name": "python"
    }
  },
  "cells": [
    {
      "cell_type": "markdown",
      "metadata": {
        "id": "view-in-github",
        "colab_type": "text"
      },
      "source": [
        "<a href=\"https://colab.research.google.com/github/Keithleezx123/DSL/blob/main/Copy_of_eda4u_dsl.ipynb\" target=\"_parent\"><img src=\"https://colab.research.google.com/assets/colab-badge.svg\" alt=\"Open In Colab\"/></a>"
      ]
    },
    {
      "cell_type": "code",
      "execution_count": null,
      "metadata": {
        "id": "AL14g-kIPSoC"
      },
      "outputs": [],
      "source": [
        "!pip install git+https://github.com/pe8sutd/eda4u &> /dev/null\n",
        "!git clone https://github.com/pe8sutd/eda4u &> /dev/null\n",
        "%load_ext plugin"
      ]
    },
    {
      "cell_type": "markdown",
      "source": [
        "You need to run the above setup everytime you login to the Colab, if you want to run this online EDA."
      ],
      "metadata": {
        "id": "cWVvU2nMPhcg"
      }
    },
    {
      "cell_type": "markdown",
      "source": [
        "## Test Test"
      ],
      "metadata": {
        "id": "HRFiCguMQAOc"
      }
    },
    {
      "cell_type": "markdown",
      "source": [
        "### %%print_verilog\n",
        "\n",
        "Using %%print_verilog, the schematic of the Verilog HDL design can be generated for reference."
      ],
      "metadata": {
        "id": "eY3o5ZmsPyEI"
      }
    },
    {
      "cell_type": "code",
      "source": [
        "%%print_verilog\n",
        "\n",
        "//--my 2 inputs and gate--//\n",
        "module my_and2(\n",
        "    output F,\n",
        "    input a,\n",
        "    input b);\n",
        "\n",
        "  assign F = (a&b);\n",
        "\n",
        "endmodule\n",
        "//-----//"
      ],
      "metadata": {
        "colab": {
          "base_uri": "https://localhost:8080/",
          "height": 158
        },
        "id": "dkTco0imQFM4",
        "outputId": "0f2d1b82-ad99-426e-a4fb-34abba9d2ccf"
      },
      "execution_count": null,
      "outputs": [
        {
          "output_type": "stream",
          "name": "stdout",
          "text": [
            "Installing. Please wait... done!\n"
          ]
        },
        {
          "output_type": "display_data",
          "data": {
            "text/plain": [
              "<IPython.core.display.SVG object>"
            ],
            "image/svg+xml": "<svg xmlns=\"http://www.w3.org/2000/svg\" xmlns:xlink=\"http://www.w3.org/1999/xlink\" xmlns:s=\"https://github.com/nturley/netlistsvg\" width=\"184\" height=\"119\"><style>svg {\n  stroke:#000;\n  fill:none;\n}\ntext {\n  fill:#000;\n  stroke:none;\n  font-size:10px;\n  font-weight: bold;\n  font-family: &quot;Courier New&quot;, monospace;\n}\nline {\n    stroke-linecap: round;\n}\n.nodelabel {\n  text-anchor: middle;\n}\n.inputPortLabel {\n  text-anchor: end;\n}\n.splitjoinBody {\n  fill:#000;\n}</style><g s:type=\"and\" transform=\"translate(77,27)\" s:width=\"30\" s:height=\"25\" id=\"cell_$and$/content/code.v:8$1\"><s:alias val=\"$and\"/><s:alias val=\"$logic_and\"/><s:alias val=\"$_AND_\"/><s:alias val=\"$reduce_and\"/><path d=\"M0,0 L0,25 L15,25 A15 12.5 0 0 0 15,0 Z\" class=\"cell_$and$/content/code.v:8$1\"/><g s:x=\"0\" s:y=\"5\" s:pid=\"A\"/><g s:x=\"0\" s:y=\"20\" s:pid=\"B\"/><g s:x=\"30\" s:y=\"12.5\" s:pid=\"Y\"/></g><g s:type=\"outputExt\" transform=\"translate(142,29.5)\" s:width=\"30\" s:height=\"20\" id=\"cell_F\"><text x=\"15\" y=\"-4\" class=\"nodelabel cell_F\" s:attribute=\"ref\">F</text><s:alias val=\"$_outputExt_\"/><path d=\"M30,0 L30,20 L15,20 L0,10 L15,0 Z\" class=\"cell_F\"/><g s:x=\"0\" s:y=\"10\" s:pid=\"A\"/></g><g s:type=\"inputExt\" transform=\"translate(12,22)\" s:width=\"30\" s:height=\"20\" id=\"cell_a\"><text x=\"15\" y=\"-4\" class=\"nodelabel cell_a\" s:attribute=\"ref\">a</text><s:alias val=\"$_inputExt_\"/><path d=\"M0,0 L0,20 L15,20 L30,10 L15,0 Z\" class=\"cell_a\"/><g s:x=\"30\" s:y=\"10\" s:pid=\"Y\"/></g><g s:type=\"inputExt\" transform=\"translate(12,87)\" s:width=\"30\" s:height=\"20\" id=\"cell_b\"><text x=\"15\" y=\"-4\" class=\"nodelabel cell_b\" s:attribute=\"ref\">b</text><s:alias val=\"$_inputExt_\"/><path d=\"M0,0 L0,20 L15,20 L30,10 L15,0 Z\" class=\"cell_b\"/><g s:x=\"30\" s:y=\"10\" s:pid=\"Y\"/></g><line x1=\"42\" x2=\"77\" y1=\"32\" y2=\"32\" class=\"net_3 width_1\" style=\"stroke-width: 1\"/><line x1=\"42\" x2=\"52\" y1=\"97\" y2=\"97\" class=\"net_4 width_1\" style=\"stroke-width: 1\"/><line x1=\"52\" x2=\"52\" y1=\"97\" y2=\"47\" class=\"net_4 width_1\" style=\"stroke-width: 1\"/><line x1=\"52\" x2=\"77\" y1=\"47\" y2=\"47\" class=\"net_4 width_1\" style=\"stroke-width: 1\"/><line x1=\"107\" x2=\"142\" y1=\"39.5\" y2=\"39.5\" class=\"net_2 width_1\" style=\"stroke-width: 1\"/></svg>"
          },
          "metadata": {}
        }
      ]
    },
    {
      "cell_type": "markdown",
      "source": [
        "## %%verilog\n",
        "\n",
        "Most of the time, only need to use %%verilog to simulate the Verilog module, with Testbench.\n",
        "The modules, and testbench must be included in the same Cell. The above Cell that include the adder module is not seen in the below Cell, thus the adder module is again included in the below cell.\n",
        "\n",
        "If you include testbench:\n",
        "1. You should only use %%verilog, but not %%print_verilog. Otherwise there will be syntax error;\n",
        "1. You must include $finish; in the testbench. Otherwise, the Cell will be runing the simulation and non-stop;"
      ],
      "metadata": {
        "id": "zyTr99WNQWHx"
      }
    },
    {
      "cell_type": "code",
      "source": [
        "%%verilog\n",
        "\n",
        "//--my 2 inputs and gate--//\n",
        "module my_and2 (\n",
        "    output F,\n",
        "    input a,\n",
        "    input b);\n",
        "\n",
        "  assign F = (a&b);\n",
        "\n",
        "endmodule\n",
        "//-----//\n",
        "\n",
        "//-----//\n",
        "module my_add2_tb();\n",
        "    wire F_tb;\n",
        "    reg a_tb, b_tb;\n",
        "\n",
        "    my_and2 dut(.F(F_tb),.a(a_tb),.b(b_tb));\n",
        "\n",
        "    // Test stimulus\n",
        "    initial begin\n",
        "        $dumpfile(\"my_add2_tb.vcd\");\n",
        "        $dumpvars;\n",
        "\n",
        "        #0 a_tb = 1'b0; b_tb = 1'b0;\n",
        "        #1 a_tb = 1'b0; b_tb = 1'b1;\n",
        "        #1 a_tb = 1'b1; b_tb = 1'b0;\n",
        "        #1 a_tb = 1'b1; b_tb = 1'b1;\n",
        "        #1 $finish;\n",
        "\n",
        "        $dumpoff;\n",
        "    end\n",
        "\n",
        "endmodule\n"
      ],
      "metadata": {
        "colab": {
          "base_uri": "https://localhost:8080/"
        },
        "id": "zE3p6zoQ_mu2",
        "outputId": "1262dcc7-27f1-43e7-ae1f-44caf8ee037f"
      },
      "execution_count": null,
      "outputs": [
        {
          "output_type": "stream",
          "name": "stdout",
          "text": [
            "VCD info: dumpfile my_add2_tb.vcd opened for output.\n",
            "\n"
          ]
        }
      ]
    },
    {
      "cell_type": "markdown",
      "source": [
        "## %%waveform\n",
        "\n",
        "You can choose to plot the waveform using %%waveform, where it will take the saved file from above Cell, c_cra.vcd, to plot the waveform. The file name must be specificed in the above Cell."
      ],
      "metadata": {
        "id": "J_bvXYcNR8IY"
      }
    },
    {
      "cell_type": "code",
      "source": [
        "%%waveform my_add2_tb.vcd\n",
        "sign_list = ['my_add2_tb.F_tb','my_add2_tb.a_tb', 'my_add2_tb.b_tb']\n",
        "time_begin = 0\n",
        "time_end = 5\n",
        "base = 'dec' # bin, dec, dec2, hex, octal"
      ],
      "metadata": {
        "colab": {
          "base_uri": "https://localhost:8080/",
          "height": 368
        },
        "id": "Jlhj5m9NR1XZ",
        "outputId": "ae7d1005-1dc9-4e93-a3f0-e1c8be87e117"
      },
      "execution_count": null,
      "outputs": [
        {
          "output_type": "display_data",
          "data": {
            "text/plain": [
              "<Figure size 600x400 with 1 Axes>"
            ],
            "image/png": "[encoded data removed]"
          },
          "metadata": {}
        }
      ]
    },
    {
      "cell_type": "markdown",
      "source": [
        "##Exercise\n",
        "Copy the above Verilog module and Testbench, modify the codes to evaluate NAND, OR, NOR, XOR, XNOR.\n",
        "\n",
        "You can try to ask Gemini, \"what is the boolean expressins in Verilog HDL for AND, NAND, OR, NOR, XOR, XNOR\""
      ],
      "metadata": {
        "id": "bU7-yHdeObnB"
      }
    },
    {
      "cell_type": "code",
      "source": [
        "%%verilog\n",
        "\n",
        "//--my 2 inputs or gate--//\n",
        "module my_and2 (\n",
        "    output F,\n",
        "    input a,\n",
        "    input b);\n",
        "\n",
        "  assign F = (a ~|b);\n",
        "\n",
        "endmodule\n",
        "//-----//\n",
        "\n",
        "//-----//\n",
        "module my_add2_tb();\n",
        "    wire F_tb;\n",
        "    reg a_tb, b_tb;\n",
        "\n",
        "    my_and2 dut(.F(F_tb),.a(a_tb),.b(b_tb));\n",
        "\n",
        "    // Test stimulus\n",
        "    initial begin\n",
        "        $dumpfile(\"my_add2_tb.vcd\");\n",
        "        $dumpvars;\n",
        "\n",
        "        #0 a_tb = 1'b0; b_tb = 1'b0;\n",
        "        #1 a_tb = 1'b0; b_tb = 1'b1;\n",
        "        #1 a_tb = 1'b1; b_tb = 1'b0;\n",
        "        #1 a_tb = 1'b1; b_tb = 1'b1;\n",
        "        #1 $finish;\n",
        "\n",
        "        $dumpoff;\n",
        "    end\n",
        "\n",
        "endmodule\n"
      ],
      "metadata": {
        "id": "JxNQJO_izJNZ",
        "colab": {
          "base_uri": "https://localhost:8080/"
        },
        "outputId": "6b7ec257-00ca-4961-8503-00f9b15a79e5"
      },
      "execution_count": null,
      "outputs": [
        {
          "output_type": "stream",
          "name": "stdout",
          "text": [
            "VCD info: dumpfile my_add2_tb.vcd opened for output.\n",
            "\n"
          ]
        }
      ]
    },
    {
      "cell_type": "code",
      "source": [
        "%%waveform my_add2_tb.vcd\n",
        "sign_list = ['my_add2_tb.F_tb','my_add2_tb.a_tb', 'my_add2_tb.b_tb']\n",
        "time_begin = 0\n",
        "time_end = 5\n",
        "base = 'dec' # bin, dec, dec2, hex, octal"
      ],
      "metadata": {
        "colab": {
          "base_uri": "https://localhost:8080/",
          "height": 368
        },
        "id": "z9AvHMUD0pFQ",
        "outputId": "8de43cb2-a7ca-4b93-ed92-2da0f05f0fb0"
      },
      "execution_count": null,
      "outputs": [
        {
          "output_type": "display_data",
          "data": {
            "text/plain": [
              "<Figure size 600x400 with 1 Axes>"
            ],
            "image/png": "[encoded data removed]"
          },
          "metadata": {}
        }
      ]
    }
  ]
}